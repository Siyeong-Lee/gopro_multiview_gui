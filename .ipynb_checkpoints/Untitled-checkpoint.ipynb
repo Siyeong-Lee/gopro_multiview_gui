{
 "cells": [
  {
   "cell_type": "code",
   "execution_count": null,
   "metadata": {
    "collapsed": true
   },
   "outputs": [],
   "source": []
  },
  {
   "cell_type": "code",
   "execution_count": 2,
   "metadata": {
    "collapsed": false
   },
   "outputs": [],
   "source": [
    "import json\n",
    "from collections import OrderedDict\n",
    "import re\n",
    "import sys, os, platform, subprocess\n",
    "import functools, httplib, urllib2, socket\n",
    "from threading import Thread\n",
    "from time import sleep\n",
    "from multiprocessing import Process, Pipe\n",
    "import struct\n",
    "\n",
    "class BoundHTTPHandler(urllib2.HTTPHandler):\n",
    "\tdef __init__(self, source_address=None, debuglevel=0):\n",
    "\t\turllib2.HTTPHandler.__init__(self, debuglevel)\n",
    "\t\tself.http_class = functools.partial(httplib.HTTPConnection,\n",
    "\t\t\t\tsource_address=source_address)\n",
    "\tdef http_open(self, req):\n",
    "\t\treturn self.do_open(self.http_class, req)\n",
    "    \n",
    "\n",
    "class Camera():\n",
    "    def __init__(self,ind):\n",
    "        self.index = ind\n",
    "        self.ip = \"10.5.5.%d\"%(ind+100)\n",
    "        self.opener = urllib2.build_opener(BoundHTTPHandler(source_address=(self.ip, 0)))\n",
    "    def sendUrlCmd(self,url):\n",
    "        result = self.opener.open(url, timeout=1).read()\n",
    "        print result\n",
    "    def RegisterMac(self,macaddr):\n",
    "        self.mac = macaddr\n",
    "    def Wake(self):\n",
    "        macaddress = self.mac\n",
    "        data = ''.join(['FFFFFFFFFFFF', macaddress * 20])\n",
    "        send_data = ''\n",
    "        # Split up the hex values and pack.\n",
    "        for i in range(0, len(data), 2):\n",
    "            send_data = ''.join([send_data,struct.pack('B', int(data[i: i + 2], 16))])\n",
    "        # Broadcast it to the LAN.\n",
    "        sock = socket.socket(socket.AF_INET, socket.SOCK_DGRAM)\n",
    "        sock.setsockopt(socket.SOL_SOCKET, socket.SO_BROADCAST, 1)\n",
    "        sock.bind((self.ip,8080))\n",
    "        sock.sendto(send_data, ('10.5.5.9', 9))\n",
    "        sock.shutdown(socket.SHUT_RDWR)\n",
    "        sock.close()\n",
    "    def Sleep(self):\n",
    "        self.sendUrlCmd(\"http://10.5.5.9/gp/gpControl/command/system/sleep\")\n",
    "    def "
   ]
  },
  {
   "cell_type": "code",
   "execution_count": 3,
   "metadata": {
    "collapsed": false
   },
   "outputs": [],
   "source": [
    "cam1 = Camera(1)\n",
    "cam2 = Camera(2)\n",
    "cam1.RegisterMac(\"d4d91990386f\")\n",
    "cam2.RegisterMac(\"d4d919923696\")"
   ]
  },
  {
   "cell_type": "code",
   "execution_count": 5,
   "metadata": {
    "collapsed": false
   },
   "outputs": [],
   "source": [
    "cam1.Wake()\n",
    "cam2.Wake()"
   ]
  },
  {
   "cell_type": "code",
   "execution_count": 6,
   "metadata": {
    "collapsed": false
   },
   "outputs": [
    {
     "name": "stdout",
     "output_type": "stream",
     "text": [
      "{}\n",
      "\n",
      "{}\n",
      "\n"
     ]
    }
   ],
   "source": [
    "cam1.Sleep()\n",
    "cam2.Sleep()"
   ]
  }
 ],
 "metadata": {
  "kernelspec": {
   "display_name": "Python 2",
   "language": "python",
   "name": "python2"
  },
  "language_info": {
   "codemirror_mode": {
    "name": "ipython",
    "version": 2
   },
   "file_extension": ".py",
   "mimetype": "text/x-python",
   "name": "python",
   "nbconvert_exporter": "python",
   "pygments_lexer": "ipython2",
   "version": "2.7.8"
  }
 },
 "nbformat": 4,
 "nbformat_minor": 0
}
