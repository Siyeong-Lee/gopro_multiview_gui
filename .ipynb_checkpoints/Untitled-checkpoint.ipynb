{
 "cells": [
  {
   "cell_type": "code",
   "execution_count": 1,
   "metadata": {
    "collapsed": false
   },
   "outputs": [
    {
     "ename": "SyntaxError",
     "evalue": "invalid syntax (<ipython-input-1-ed980d9053e3>, line 67)",
     "output_type": "error",
     "traceback": [
      "\u001b[1;36m  File \u001b[1;32m\"<ipython-input-1-ed980d9053e3>\"\u001b[1;36m, line \u001b[1;32m67\u001b[0m\n\u001b[1;33m    sock.\u001b[0m\n\u001b[1;37m         ^\u001b[0m\n\u001b[1;31mSyntaxError\u001b[0m\u001b[1;31m:\u001b[0m invalid syntax\n"
     ]
    }
   ],
   "source": [
    "import json\n",
    "from collections import OrderedDict\n",
    "import re\n",
    "import sys, os, platform, subprocess\n",
    "import functools, httplib, urllib2, socket\n",
    "from threading import Thread\n",
    "from time import sleep\n",
    "from multiprocessing import Process, Pipe\n",
    "import struct\n",
    "\n",
    "class BoundHTTPHandler(urllib2.HTTPHandler):\n",
    "\tdef __init__(self, source_address=None, debuglevel=0):\n",
    "\t\turllib2.HTTPHandler.__init__(self, debuglevel)\n",
    "\t\tself.http_class = functools.partial(httplib.HTTPConnection,\n",
    "\t\t\t\tsource_address=source_address)\n",
    "\tdef http_open(self, req):\n",
    "\t\treturn self.do_open(self.http_class, req)\n",
    "    \n",
    "\n",
    "class Camera():\n",
    "    def __init__(self,ind):\n",
    "        self.index = ind\n",
    "        self.ip = \"10.5.5.%d\"%(ind+100)\n",
    "        self.opener = urllib2.build_opener(BoundHTTPHandler(source_address=(self.ip, 0)))\n",
    "        self.isAlive = False\n",
    "    def SendUrlCmd(self,url):\n",
    "        result = self.opener.open(url, timeout=1).read()\n",
    "        return result\n",
    "    def RegisterMac(self,macaddr):\n",
    "        self.mac = macaddr\n",
    "    def Wake(self):\n",
    "        macaddress = self.mac\n",
    "        data = ''.join(['FFFFFFFFFFFF', macaddress * 20])\n",
    "        send_data = ''\n",
    "        # Split up the hex values and pack.\n",
    "        for i in range(0, len(data), 2):\n",
    "            send_data = ''.join([send_data,struct.pack('B', int(data[i: i + 2], 16))])\n",
    "        # Broadcast it to the LAN.\n",
    "        sock = socket.socket(socket.AF_INET, socket.SOCK_DGRAM)\n",
    "        sock.setsockopt(socket.SOL_SOCKET, socket.SO_BROADCAST, 1)\n",
    "        sock.bind((self.ip,8080))\n",
    "        sock.sendto(send_data, ('10.5.5.9', 9))\n",
    "        sock.shutdown(socket.SHUT_RDWR)\n",
    "        sock.close()\n",
    "    def Sleep(self):\n",
    "        self.sendUrlCmd(\"http://10.5.5.9/gp/gpControl/command/system/sleep\")\n",
    "    def GetLastImg(self,path):\n",
    "        campath = os.path.join(path,\"Cam%d\"%self.index)\n",
    "        if not os.path.exists(campath):\n",
    "            os.mkdir(campath)\n",
    "        filelist = json.loads(self.SendUrlCmd(\"http://10.5.5.9:8080/gp/gpMediaList\"))['media'][0]['fs']\n",
    "        filename = filelist[-1]['n']\n",
    "        data = self.SendUrlCmd(\"http://10.5.5.9:8080/videos/DCIM/100GOPRO/\"+filename)\n",
    "        with open(os.path.join(campath,filename),'wb') as target:\n",
    "            target.write(data)\n",
    "    def KeepAlive(self):\n",
    "        self.isAlive = True\n",
    "        MESSAGE = \"_GPHD_:%u:%u:%d:%1lf\\n\" % (0, 0, 2, 0)\n",
    "        UDP_IP = \"10.5.5.9\"\n",
    "        UDP_PORT = 8554\n",
    "        KEEP_ALIVE_PERIOD = 2500\n",
    "        if sys.version_info.major >= 3:\n",
    "            MESSAGE = bytes(MESSAGE, \"utf-8\")\n",
    "        while True:\n",
    "            sock = socket.socket(socket.AF_INET, socket.SOCK_DGRAM)\n",
    "            sock.bind((ip,8080))\n",
    "            sock.sendto(MESSAGE, (UDP_IP, UDP_PORT))\n",
    "            sock.close()\n",
    "        sleep(KEEP_ALIVE_PERIOD/1000)\n",
    "    def StartFFplay(self):\n",
    "            prefix = \"ffplay -fflags nobuffer -f:v mpegts -probesize 8192 udp://\"\n",
    "            print prefix + \"%s?localaddr=%s\" % (self.ip, self.ip)\n",
    "            os.system(prefix + \"%s:8554?localaddr=%s\" % (self.ip, self.ip))\n",
    "    def Stream(self):\n",
    "        if not self.isAlive:\n",
    "            self.livethread = Process(target = self.KeepAlive)\n",
    "            self.livethread.start()\n",
    "        self.streamthread = Process(target = self.StartFFplay)\n",
    "        self.streamthread.start()\n",
    "        self.SendUrlCmd(\"http://10.5.5.9/gp/gpControl/execute?p1=gpStream&c1=restart\")\n",
    "    def EndStream(self):\n",
    "        if self.isAlive:\n",
    "            self.livethread.terminate()\n",
    "            self.isAlive = False\n",
    "        self.streamthread.terminate()\n",
    "        self.SendUrlCmd(\"http://10.5.5.9/gp/gpControl/execute?p1=gpStream&c1=stop\")\n",
    "    \n",
    "        \n",
    "            \n",
    "           \n",
    "            \n",
    "        "
   ]
  },
  {
   "cell_type": "code",
   "execution_count": 159,
   "metadata": {
    "collapsed": false
   },
   "outputs": [],
   "source": [
    "cam1 = Camera(1)\n",
    "cam2 = Camera(2)\n",
    "cam1.RegisterMac(\"d4d91990386f\")\n",
    "cam2.RegisterMac(\"d4d919923696\")"
   ]
  },
  {
   "cell_type": "code",
   "execution_count": 160,
   "metadata": {
    "collapsed": false
   },
   "outputs": [
    {
     "data": {
      "text/plain": [
       "[{u'mod': u'1453133392', u'n': u'GOPR3396.JPG', u's': u'3197709'},\n",
       " {u'mod': u'1453133520', u'n': u'GOPR3397.JPG', u's': u'3260897'},\n",
       " {u'ls': u'169461',\n",
       "  u'mod': u'1453140348',\n",
       "  u'n': u'GOPR3398.MP4',\n",
       "  u's': u'8331531'},\n",
       " {u'mod': u'1453140352', u'n': u'GOPR3399.JPG', u's': u'2684586'},\n",
       " {u'mod': u'1453152634', u'n': u'GOPR3400.JPG', u's': u'4587921'}]"
      ]
     },
     "execution_count": 160,
     "metadata": {},
     "output_type": "execute_result"
    }
   ],
   "source": [
    "a = json.loads(cam2.SendUrlCmd(\"http://10.5.5.9:8080/gp/gpMediaList\"))\n",
    "a['media'][0]['fs']"
   ]
  },
  {
   "cell_type": "code",
   "execution_count": 161,
   "metadata": {
    "collapsed": false
   },
   "outputs": [],
   "source": [
    "cam1.GetLastImg('D:\\gopro_multiview_gui')"
   ]
  },
  {
   "cell_type": "code",
   "execution_count": 96,
   "metadata": {
    "collapsed": false
   },
   "outputs": [
    {
     "name": "stdout",
     "output_type": "stream",
     "text": [
      "00\n",
      "07\n",
      "00\n",
      "00\n",
      "00\n",
      "00\n",
      "00\n",
      "00\n",
      "00\n",
      "00\n",
      "00\n",
      "ff\n",
      "00\n",
      "00\n",
      "00\n",
      "00\n",
      "00\n",
      "00\n",
      "80\n",
      "00\n",
      "00\n",
      "00\n",
      "01\n",
      "00\n",
      "02\n",
      "00\n",
      "20\n",
      "00\n",
      "07\n",
      "00\n",
      "00\n"
     ]
    }
   ],
   "source": [
    "for item in cam2.sendUrlCmd('http://10.5.5.9/camera/se?t=asd'):\n",
    "    print item.encode('hex')"
   ]
  }
 ],
 "metadata": {
  "kernelspec": {
   "display_name": "Python 2",
   "language": "python",
   "name": "python2"
  },
  "language_info": {
   "codemirror_mode": {
    "name": "ipython",
    "version": 2
   },
   "file_extension": ".py",
   "mimetype": "text/x-python",
   "name": "python",
   "nbconvert_exporter": "python",
   "pygments_lexer": "ipython2",
   "version": "2.7.8"
  }
 },
 "nbformat": 4,
 "nbformat_minor": 0
}
