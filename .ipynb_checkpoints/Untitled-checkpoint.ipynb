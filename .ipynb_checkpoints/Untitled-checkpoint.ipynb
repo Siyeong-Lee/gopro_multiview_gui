{
 "cells": [
  {
   "cell_type": "code",
   "execution_count": 25,
   "metadata": {
    "collapsed": false
   },
   "outputs": [],
   "source": [
    "import json\n",
    "from collections import OrderedDict\n",
    "import re\n",
    "import sys, os, platform, subprocess\n",
    "import functools, httplib, urllib2, socket\n",
    "from threading import Thread\n",
    "from time import sleep\n",
    "from multiprocessing import Process, Pipe\n",
    "import struct\n",
    "\n",
    "class BoundHTTPHandler(urllib2.HTTPHandler):\n",
    "\tdef __init__(self, source_address=None, debuglevel=0):\n",
    "\t\turllib2.HTTPHandler.__init__(self, debuglevel)\n",
    "\t\tself.http_class = functools.partial(httplib.HTTPConnection,\n",
    "\t\t\t\tsource_address=source_address)\n",
    "\tdef http_open(self, req):\n",
    "\t\treturn self.do_open(self.http_class, req)\n",
    "    \n",
    "\n",
    "class Camera():\n",
    "    def __init__(self,ind):\n",
    "        self.index = ind\n",
    "        self.ip = \"10.5.5.%d\"%(ind+100)\n",
    "        self.opener = urllib2.build_opener(BoundHTTPHandler(source_address=(self.ip, 0)))\n",
    "        self.isAlive = False\n",
    "    def SendUrlCmd(self,url):\n",
    "        \n",
    "        #print \"sending gopro %d: \\n\"%self.index\n",
    "        try:\n",
    "            result = self.opener.open(url, timeout=4).read()\n",
    "            return result\n",
    "        except Exception,e:\n",
    "            print str(e)\n",
    "        #print \"sending finished \\n\"\n",
    "        \n",
    "    def RegisterMac(self,macaddr):\n",
    "        self.mac = macaddr\n",
    "    def GetMac(self):\n",
    "        text = self.SendUrlCmd(\"http://10.5.5.9/videos/MISC/version.txt\")\n",
    "        return text[74:86]\n",
    "    def Wake(self):\n",
    "        macaddress = self.mac\n",
    "        data = ''.join(['FFFFFFFFFFFF', macaddress * 20])\n",
    "        send_data = ''\n",
    "        # Split up the hex values and pack.\n",
    "        for i in range(0, len(data), 2):\n",
    "            send_data = ''.join([send_data,struct.pack('B', int(data[i: i + 2], 16))])\n",
    "        # Broadcast it to the LAN.\n",
    "        sock = socket.socket(socket.AF_INET, socket.SOCK_DGRAM)\n",
    "        sock.setsockopt(socket.SOL_SOCKET, socket.SO_BROADCAST, 1)\n",
    "        sock.bind((self.ip,8080))\n",
    "        sock.sendto(send_data, ('10.5.5.9', 9))\n",
    "        sock.shutdown(socket.SHUT_RDWR)\n",
    "        sock.close()\n",
    "    def Sleep(self):\n",
    "        self.SendUrlCmd(\"http://10.5.5.9/gp/gpControl/command/system/sleep\")\n",
    "    def GetLastImg(self,path):\n",
    "        print \"Transsferring Gopro%d:\\n\"%self.index\n",
    "        campath = os.path.join(path,\"Cam%d\"%self.index)\n",
    "        if not os.path.exists(campath):\n",
    "            os.mkdir(campath)\n",
    "        rawlist = json.loads(self.SendUrlCmd(\"http://10.5.5.9:8080/gp/gpMediaList\"))['media'][0]\n",
    "        filelist = rawlist['fs']\n",
    "        filename = filelist[-1]['n']\n",
    "        dirname = rawlist['d']\n",
    "        print filename\n",
    "        data = self.SendUrlCmd(\"http://10.5.5.9:8080/videos/DCIM/%s/\"%dirname+filename)\n",
    "        with open(os.path.join(campath,filename),'wb') as target:\n",
    "            target.write(data)\n",
    "        print(\"finished.\")\n",
    "    def CopyAllMultiShotFiles(self,path):\n",
    "        rawlist = json.loads(self.SendUrlCmd(\"http://10.5.5.9:8080/gp/gpMediaList\"))['media'][0]\n",
    "        gpfilepath = \"http://10.5.5.9:8080/videos/DCIM/%s/\"%rawlist['d']\n",
    "        for data in rawlist['fs']:\n",
    "            if data.has_key('g') and data.has_key('b') and data.has_key('l'):\n",
    "                tmppathroot = os.path.join(path,\"batch%d\"%int(data['g']))\n",
    "                print \"  Transferring Batch%d(%s-%s):\\n\"%(int(data['g']),data['b'],data['l'])\n",
    "                if not os.path.exists(tmppathroot):\n",
    "                    os.mkdir(tmppathroot)\n",
    "                tmppath = os.path.join(tmppathroot,\"Cam%d\"%self.index)\n",
    "                if not os.path.exists(tmppath):\n",
    "                    os.mkdir(tmppath)\n",
    "                for fid in range(int(data['b']),int(data['l'])+1):\n",
    "                    filename = \"G%03d%d.JPG\"%(int(data['g']),fid)\n",
    "                    rawpic = self.SendUrlCmd(gpfilepath+filename)\n",
    "                    print filename\n",
    "                    with open(os.path.join(tmppath,filename),'wb') as target:\n",
    "                        target.write(rawpic)\n",
    "                    print \"    \"+filename+\"Transffered.\"\n",
    "                print \"  Batch%d(%s-%s) Transfered.\\n\"%(int(data['g']),data['b'],data['l'])\n",
    "\n",
    "class CameraArrayCommand():\n",
    "    def __init__(self):\n",
    "        return\n",
    "    def RegisterMacs(self,camarr,macmap):\n",
    "        for cam in camarr:\n",
    "            mac = macmap[\"GoproNumber%d\"%cam.index]\n",
    "            cam.RegisterMac(mac)\n",
    "    def SetControl(self,camarr,url):\n",
    "        for cam in camarr:\n",
    "            try:\n",
    "                cam.SendUrlCmd(url)\n",
    "            except Exception,e:\n",
    "                print \"cam%d\"%cam.index+\" failed:\"+str(e)\n",
    "                continue\n",
    "    def Wake(self,camarray):\n",
    "        for cam in camarray:\n",
    "            try:\n",
    "                cam.Wake()\n",
    "            except Exception,e:\n",
    "                print \"cam%d\"%cam.index+\" failed:\"+str(e)\n",
    "                continue\n",
    "    def Sleep(self,camarray):\n",
    "        for cam in camarray:\n",
    "            try:\n",
    "                cam.Sleep()\n",
    "            except Exception,e:\n",
    "                print \"cam%d\"%cam.index+\" failed:\"+str(e)\n",
    "                continue\n",
    "    def GetLastImage(self,camarray):\n",
    "        for cam in camarray:\n",
    "            cam.GetLastImg(\"D:\\gopro_multiview_gui\")\n",
    "        \n",
    "    \n",
    "def ReadJson(path):\n",
    "    cmd_file_name = 'command.json'\n",
    "    js = load_json(os.path.join(path,cmd_file_name))\n",
    "\n",
    "    cmddict = dict()\n",
    "    try:\n",
    "        cmddict[\"controls\"] = js['controls']\n",
    "        cmddict[\"mac_map\"] = js['mac_map']\n",
    "    except Exception, e:\n",
    "        print str(e)\n",
    "        exit()\n",
    "    return cmddict\n",
    "        \n",
    "        \n",
    "def StartFFplay(cam):\n",
    "        prefix = \"ffplay -fflags nobuffer -f:v mpegts -probesize 8192 udp://\"\n",
    "        print prefix + \"%s?localaddr=%s\" % (cam.ip, cam.ip)\n",
    "        os.system(prefix + \"%s:8554?localaddr=%s\" % (cam.ip, cam.ip))\n",
    "\n",
    "def KeepAliveSingle(cam):\n",
    "    MESSAGE = \"_GPHD_:%u:%u:%d:%1lf\\n\" % (0, 0, 2, 0)\n",
    "    UDP_IP = \"10.5.5.9\"\n",
    "    UDP_PORT = 8554\n",
    "    KEEP_ALIVE_PERIOD = 2500\n",
    "    if sys.version_info.major >= 3:\n",
    "        MESSAGE = bytes(MESSAGE, \"utf-8\")\n",
    "    while True:\n",
    "        sock = socket.socket(socket.AF_INET, socket.SOCK_DGRAM)\n",
    "        sock.bind((cam.ip,8080))\n",
    "        sock.sendto(MESSAGE, (UDP_IP, UDP_PORT))\n",
    "        sock.close()\n",
    "    sleep(KEEP_ALIVE_PERIOD/1000)\n",
    "\n",
    "def LoadJson(path):\n",
    "    with open(path,'r') as datasource:\n",
    "        data = json.load(datasource)\n",
    "    return data\n",
    "        "
   ]
  },
  {
   "cell_type": "code",
   "execution_count": 14,
   "metadata": {
    "collapsed": false
   },
   "outputs": [],
   "source": [
    "cmddict = LoadJson('D:/gopro_multiview_gui/newcommand.json')"
   ]
  },
  {
   "cell_type": "code",
   "execution_count": 26,
   "metadata": {
    "collapsed": false,
    "scrolled": false
   },
   "outputs": [],
   "source": [
    "cam4 = Camera(4)"
   ]
  },
  {
   "cell_type": "code",
   "execution_count": 28,
   "metadata": {
    "collapsed": false
   },
   "outputs": [
    {
     "data": {
      "text/plain": [
       "'<!DOCTYPE html PUBLIC \"-//W3C//DTD XHTML 1.0 Strict//EN\" \"http://www.w3.org/TR/xhtml1/DTD/xhtml1-strict.dtd\">\\n<html xmlns=\"http://www.w3.org/1999/xhtml\" xml:lang=\"en\" lang=\"en\">\\n\\n<head>\\n\\t<title></title>\\n\\t<meta http-equiv=\"Content-Type\" content=\"text/html; charset=utf-8\" />\\n</head>\\n\\n<body>\\n\\t<div id=\"main\" style=\"height: 100%; text-align: center;\"><!-- BEGINOF main -->\\n\\t  <img src=\"/icons/gopro_logo.png\" class=\"logo\" />\\n\\t  <pre></pre>\\n\\t<div id=\"dirlist\"><!-- BEGINOF dirlist -->\\n\\t<table>\\n\\t\\t<thead class=\"headings\">\\n\\t\\t  <tr>\\n\\t\\t\\t<td style=\"width: 1px;\">&nbsp;</td>\\n\\t\\t\\t<td>\\n\\t\\t\\t<a href=\"?order=N\">Name</a>\\n\\t\\t\\t</td>\\n\\t\\t\\t<td>\\n\\t\\t\\t<a href=\"?order=s\">Size</a>\\n\\t\\t\\t</td>\\n\\t\\t  </tr>\\n\\t\\t</thead>\\n\\t\\t<tbody>\\n<tr>\\n  <td style=\"width: 1px;\">\\n    <img class=\"icon\" src=\"/icons/camera.png\" alt=\"[   ]\" />\\n  </td>\\n  <td>\\n    <a class=\"link\" href=\"G0010328.JPG\">G0010328.JPG</a>\\n  </td>\\n  <td class=\"size\">\\n    <span class=\"size\">2</span><span class=\"unit\">.4M</span>\\n  </td>\\n</tr>\\n<tr>\\n  <td style=\"width: 1px;\">\\n    <img class=\"icon\" src=\"/icons/camera.png\" alt=\"[   ]\" />\\n  </td>\\n  <td>\\n    <a class=\"link\" href=\"G0010329.JPG\">G0010329.JPG</a>\\n  </td>\\n  <td class=\"size\">\\n    <span class=\"size\">2</span><span class=\"unit\">.4M</span>\\n  </td>\\n</tr>\\n<tr>\\n  <td style=\"width: 1px;\">\\n    <img class=\"icon\" src=\"/icons/camera.png\" alt=\"[   ]\" />\\n  </td>\\n  <td>\\n    <a class=\"link\" href=\"G0010330.JPG\">G0010330.JPG</a>\\n  </td>\\n  <td class=\"size\">\\n    <span class=\"size\">2</span><span class=\"unit\">.4M</span>\\n  </td>\\n</tr>\\n<tr>\\n  <td style=\"width: 1px;\">\\n    <img class=\"icon\" src=\"/icons/camera.png\" alt=\"[   ]\" />\\n  </td>\\n  <td>\\n    <a class=\"link\" href=\"G0010331.JPG\">G0010331.JPG</a>\\n  </td>\\n  <td class=\"size\">\\n    <span class=\"size\">2</span><span class=\"unit\">.4M</span>\\n  </td>\\n</tr>\\n<tr>\\n  <td style=\"width: 1px;\">\\n    <img class=\"icon\" src=\"/icons/camera.png\" alt=\"[   ]\" />\\n  </td>\\n  <td>\\n    <a class=\"link\" href=\"G0010332.JPG\">G0010332.JPG</a>\\n  </td>\\n  <td class=\"size\">\\n    <span class=\"size\">2</span><span class=\"unit\">.4M</span>\\n  </td>\\n</tr>\\n<tr>\\n  <td style=\"width: 1px;\">\\n    <img class=\"icon\" src=\"/icons/camera.png\" alt=\"[   ]\" />\\n  </td>\\n  <td>\\n    <a class=\"link\" href=\"G0010333.JPG\">G0010333.JPG</a>\\n  </td>\\n  <td class=\"size\">\\n    <span class=\"size\">2</span><span class=\"unit\">.4M</span>\\n  </td>\\n</tr>\\n<tr>\\n  <td style=\"width: 1px;\">\\n    <img class=\"icon\" src=\"/icons/camera.png\" alt=\"[   ]\" />\\n  </td>\\n  <td>\\n    <a class=\"link\" href=\"G0010334.JPG\">G0010334.JPG</a>\\n  </td>\\n  <td class=\"size\">\\n    <span class=\"size\">2</span><span class=\"unit\">.4M</span>\\n  </td>\\n</tr>\\n<tr>\\n  <td style=\"width: 1px;\">\\n    <img class=\"icon\" src=\"/icons/camera.png\" alt=\"[   ]\" />\\n  </td>\\n  <td>\\n    <a class=\"link\" href=\"G0010335.JPG\">G0010335.JPG</a>\\n  </td>\\n  <td class=\"size\">\\n    <span class=\"size\">2</span><span class=\"unit\">.4M</span>\\n  </td>\\n</tr>\\n<tr>\\n  <td style=\"width: 1px;\">\\n    <img class=\"icon\" src=\"/icons/camera.png\" alt=\"[   ]\" />\\n  </td>\\n  <td>\\n    <a class=\"link\" href=\"G0010336.JPG\">G0010336.JPG</a>\\n  </td>\\n  <td class=\"size\">\\n    <span class=\"size\">2</span><span class=\"unit\">.4M</span>\\n  </td>\\n</tr>\\n<tr>\\n  <td style=\"width: 1px;\">\\n    <img class=\"icon\" src=\"/icons/camera.png\" alt=\"[   ]\" />\\n  </td>\\n  <td>\\n    <a class=\"link\" href=\"G0010337.JPG\">G0010337.JPG</a>\\n  </td>\\n  <td class=\"size\">\\n    <span class=\"size\">2</span><span class=\"unit\">.4M</span>\\n  </td>\\n</tr>\\n<tr>\\n  <td style=\"width: 1px;\">\\n    <img class=\"icon\" src=\"/icons/camera.png\" alt=\"[   ]\" />\\n  </td>\\n  <td>\\n    <a class=\"link\" href=\"G0010338.JPG\">G0010338.JPG</a>\\n  </td>\\n  <td class=\"size\">\\n    <span class=\"size\">2</span><span class=\"unit\">.4M</span>\\n  </td>\\n</tr>\\n<tr>\\n  <td style=\"width: 1px;\">\\n    <img class=\"icon\" src=\"/icons/camera.png\" alt=\"[   ]\" />\\n  </td>\\n  <td>\\n    <a class=\"link\" href=\"G0010339.JPG\">G0010339.JPG</a>\\n  </td>\\n  <td class=\"size\">\\n    <span class=\"size\">2</span><span class=\"unit\">.4M</span>\\n  </td>\\n</tr>\\n<tr>\\n  <td style=\"width: 1px;\">\\n    <img class=\"icon\" src=\"/icons/camera.png\" alt=\"[   ]\" />\\n  </td>\\n  <td>\\n    <a class=\"link\" href=\"G0010340.JPG\">G0010340.JPG</a>\\n  </td>\\n  <td class=\"size\">\\n    <span class=\"size\">2</span><span class=\"unit\">.4M</span>\\n  </td>\\n</tr>\\n<tr>\\n  <td style=\"width: 1px;\">\\n    <img class=\"icon\" src=\"/icons/camera.png\" alt=\"[   ]\" />\\n  </td>\\n  <td>\\n    <a class=\"link\" href=\"G0010341.JPG\">G0010341.JPG</a>\\n  </td>\\n  <td class=\"size\">\\n    <span class=\"size\">2</span><span class=\"unit\">.4M</span>\\n  </td>\\n</tr>\\n<tr>\\n  <td style=\"width: 1px;\">\\n    <img class=\"icon\" src=\"/icons/camera.png\" alt=\"[   ]\" />\\n  </td>\\n  <td>\\n    <a class=\"link\" href=\"G0010342.JPG\">G0010342.JPG</a>\\n  </td>\\n  <td class=\"size\">\\n    <span class=\"size\">2</span><span class=\"unit\">.4M</span>\\n  </td>\\n</tr>\\n<tr>\\n  <td style=\"width: 1px;\">\\n    <img class=\"icon\" src=\"/icons/camera.png\" alt=\"[   ]\" />\\n  </td>\\n  <td>\\n    <a class=\"link\" href=\"G0010343.JPG\">G0010343.JPG</a>\\n  </td>\\n  <td class=\"size\">\\n    <span class=\"size\">2</span><span class=\"unit\">.4M</span>\\n  </td>\\n</tr>\\n<tr>\\n  <td style=\"width: 1px;\">\\n    <img class=\"icon\" src=\"/icons/camera.png\" alt=\"[   ]\" />\\n  </td>\\n  <td>\\n    <a class=\"link\" href=\"G0010344.JPG\">G0010344.JPG</a>\\n  </td>\\n  <td class=\"size\">\\n    <span class=\"size\">2</span><span class=\"unit\">.4M</span>\\n  </td>\\n</tr>\\n<tr>\\n  <td style=\"width: 1px;\">\\n    <img class=\"icon\" src=\"/icons/camera.png\" alt=\"[   ]\" />\\n  </td>\\n  <td>\\n    <a class=\"link\" href=\"G0010345.JPG\">G0010345.JPG</a>\\n  </td>\\n  <td class=\"size\">\\n    <span class=\"size\">2</span><span class=\"unit\">.4M</span>\\n  </td>\\n</tr>\\n<tr>\\n  <td style=\"width: 1px;\">\\n    <img class=\"icon\" src=\"/icons/camera.png\" alt=\"[   ]\" />\\n  </td>\\n  <td>\\n    <a class=\"link\" href=\"G0020346.JPG\">G0020346.JPG</a>\\n  </td>\\n  <td class=\"size\">\\n    <span class=\"size\">2</span><span class=\"unit\">.4M</span>\\n  </td>\\n</tr>\\n<tr>\\n  <td style=\"width: 1px;\">\\n    <img class=\"icon\" src=\"/icons/camera.png\" alt=\"[   ]\" />\\n  </td>\\n  <td>\\n    <a class=\"link\" href=\"G0020347.JPG\">G0020347.JPG</a>\\n  </td>\\n  <td class=\"size\">\\n    <span class=\"size\">2</span><span class=\"unit\">.4M</span>\\n  </td>\\n</tr>\\n<tr>\\n  <td style=\"width: 1px;\">\\n    <img class=\"icon\" src=\"/icons/camera.png\" alt=\"[   ]\" />\\n  </td>\\n  <td>\\n    <a class=\"link\" href=\"G0020348.JPG\">G0020348.JPG</a>\\n  </td>\\n  <td class=\"size\">\\n    <span class=\"size\">2</span><span class=\"unit\">.4M</span>\\n  </td>\\n</tr>\\n<tr>\\n  <td style=\"width: 1px;\">\\n    <img class=\"icon\" src=\"/icons/camera.png\" alt=\"[   ]\" />\\n  </td>\\n  <td>\\n    <a class=\"link\" href=\"G0020349.JPG\">G0020349.JPG</a>\\n  </td>\\n  <td class=\"size\">\\n    <span class=\"size\">2</span><span class=\"unit\">.3M</span>\\n  </td>\\n</tr>\\n<tr>\\n  <td style=\"width: 1px;\">\\n    <img class=\"icon\" src=\"/icons/camera.png\" alt=\"[   ]\" />\\n  </td>\\n  <td>\\n    <a class=\"link\" href=\"G0020350.JPG\">G0020350.JPG</a>\\n  </td>\\n  <td class=\"size\">\\n    <span class=\"size\">2</span><span class=\"unit\">.4M</span>\\n  </td>\\n</tr>\\n<tr>\\n  <td style=\"width: 1px;\">\\n    <img class=\"icon\" src=\"/icons/camera.png\" alt=\"[   ]\" />\\n  </td>\\n  <td>\\n    <a class=\"link\" href=\"G0020351.JPG\">G0020351.JPG</a>\\n  </td>\\n  <td class=\"size\">\\n    <span class=\"size\">2</span><span class=\"unit\">.3M</span>\\n  </td>\\n</tr>\\n<tr>\\n  <td style=\"width: 1px;\">\\n    <img class=\"icon\" src=\"/icons/camera.png\" alt=\"[   ]\" />\\n  </td>\\n  <td>\\n    <a class=\"link\" href=\"G0020352.JPG\">G0020352.JPG</a>\\n  </td>\\n  <td class=\"size\">\\n    <span class=\"size\">2</span><span class=\"unit\">.4M</span>\\n  </td>\\n</tr>\\n<tr>\\n  <td style=\"width: 1px;\">\\n    <img class=\"icon\" src=\"/icons/camera.png\" alt=\"[   ]\" />\\n  </td>\\n  <td>\\n    <a class=\"link\" href=\"G0020353.JPG\">G0020353.JPG</a>\\n  </td>\\n  <td class=\"size\">\\n    <span class=\"size\">2</span><span class=\"unit\">.4M</span>\\n  </td>\\n</tr>\\n<tr>\\n  <td style=\"width: 1px;\">\\n    <img class=\"icon\" src=\"/icons/camera.png\" alt=\"[   ]\" />\\n  </td>\\n  <td>\\n    <a class=\"link\" href=\"G0020354.JPG\">G0020354.JPG</a>\\n  </td>\\n  <td class=\"size\">\\n    <span class=\"size\">2</span><span class=\"unit\">.4M</span>\\n  </td>\\n</tr>\\n<tr>\\n  <td style=\"width: 1px;\">\\n    <img class=\"icon\" src=\"/icons/camera.png\" alt=\"[   ]\" />\\n  </td>\\n  <td>\\n    <a class=\"link\" href=\"G0020355.JPG\">G0020355.JPG</a>\\n  </td>\\n  <td class=\"size\">\\n    <span class=\"size\">2</span><span class=\"unit\">.4M</span>\\n  </td>\\n</tr>\\n<tr>\\n  <td style=\"width: 1px;\">\\n    <img class=\"icon\" src=\"/icons/camera.png\" alt=\"[   ]\" />\\n  </td>\\n  <td>\\n    <a class=\"link\" href=\"G0020356.JPG\">G0020356.JPG</a>\\n  </td>\\n  <td class=\"size\">\\n    <span class=\"size\">2</span><span class=\"unit\">.3M</span>\\n  </td>\\n</tr>\\n<tr>\\n  <td style=\"width: 1px;\">\\n    <img class=\"icon\" src=\"/icons/camera.png\" alt=\"[   ]\" />\\n  </td>\\n  <td>\\n    <a class=\"link\" href=\"G0020357.JPG\">G0020357.JPG</a>\\n  </td>\\n  <td class=\"size\">\\n    <span class=\"size\">2</span><span class=\"unit\">.4M</span>\\n  </td>\\n</tr>\\n<tr>\\n  <td style=\"width: 1px;\">\\n    <img class=\"icon\" src=\"/icons/camera.png\" alt=\"[   ]\" />\\n  </td>\\n  <td>\\n    <a class=\"link\" href=\"G0020358.JPG\">G0020358.JPG</a>\\n  </td>\\n  <td class=\"size\">\\n    <span class=\"size\">2</span><span class=\"unit\">.4M</span>\\n  </td>\\n</tr>\\n<tr>\\n  <td style=\"width: 1px;\">\\n    <img class=\"icon\" src=\"/icons/camera.png\" alt=\"[   ]\" />\\n  </td>\\n  <td>\\n    <a class=\"link\" href=\"G0020359.JPG\">G0020359.JPG</a>\\n  </td>\\n  <td class=\"size\">\\n    <span class=\"size\">2</span><span class=\"unit\">.4M</span>\\n  </td>\\n</tr>\\n<tr>\\n  <td style=\"width: 1px;\">\\n    <img class=\"icon\" src=\"/icons/camera.png\" alt=\"[   ]\" />\\n  </td>\\n  <td>\\n    <a class=\"link\" href=\"G0020360.JPG\">G0020360.JPG</a>\\n  </td>\\n  <td class=\"size\">\\n    <span class=\"size\">2</span><span class=\"unit\">.3M</span>\\n  </td>\\n</tr>\\n<tr>\\n  <td style=\"width: 1px;\">\\n    <img class=\"icon\" src=\"/icons/camera.png\" alt=\"[   ]\" />\\n  </td>\\n  <td>\\n    <a class=\"link\" href=\"G0020361.JPG\">G0020361.JPG</a>\\n  </td>\\n  <td class=\"size\">\\n    <span class=\"size\">2</span><span class=\"unit\">.4M</span>\\n  </td>\\n</tr>\\n<tr>\\n  <td style=\"width: 1px;\">\\n    <img class=\"icon\" src=\"/icons/camera.png\" alt=\"[   ]\" />\\n  </td>\\n  <td>\\n    <a class=\"link\" href=\"G0020362.JPG\">G0020362.JPG</a>\\n  </td>\\n  <td class=\"size\">\\n    <span class=\"size\">2</span><span class=\"unit\">.3M</span>\\n  </td>\\n</tr>\\n<tr>\\n  <td style=\"width: 1px;\">\\n    <img class=\"icon\" src=\"/icons/camera.png\" alt=\"[   ]\" />\\n  </td>\\n  <td>\\n    <a class=\"link\" href=\"G0020363.JPG\">G0020363.JPG</a>\\n  </td>\\n  <td class=\"size\">\\n    <span class=\"size\">2</span><span class=\"unit\">.3M</span>\\n  </td>\\n</tr>\\n<tr>\\n  <td style=\"width: 1px;\">\\n    <img class=\"icon\" src=\"/icons/camera.png\" alt=\"[   ]\" />\\n  </td>\\n  <td>\\n    <a class=\"link\" href=\"G0020364.JPG\">G0020364.JPG</a>\\n  </td>\\n  <td class=\"size\">\\n    <span class=\"size\">2</span><span class=\"unit\">.4M</span>\\n  </td>\\n</tr>\\n<tr>\\n  <td style=\"width: 1px;\">\\n    <img class=\"icon\" src=\"/icons/camera.png\" alt=\"[   ]\" />\\n  </td>\\n  <td>\\n    <a class=\"link\" href=\"G0020365.JPG\">G0020365.JPG</a>\\n  </td>\\n  <td class=\"size\">\\n    <span class=\"size\">2</span><span class=\"unit\">.4M</span>\\n  </td>\\n</tr>\\n<tr>\\n  <td style=\"width: 1px;\">\\n    <img class=\"icon\" src=\"/icons/camera.png\" alt=\"[   ]\" />\\n  </td>\\n  <td>\\n    <a class=\"link\" href=\"G0020366.JPG\">G0020366.JPG</a>\\n  </td>\\n  <td class=\"size\">\\n    <span class=\"size\">2</span><span class=\"unit\">.4M</span>\\n  </td>\\n</tr>\\n<tr>\\n  <td style=\"width: 1px;\">\\n    <img class=\"icon\" src=\"/icons/camera.png\" alt=\"[   ]\" />\\n  </td>\\n  <td>\\n    <a class=\"link\" href=\"G0030367.JPG\">G0030367.JPG</a>\\n  </td>\\n  <td class=\"size\">\\n    <span class=\"size\">2</span><span class=\"unit\">.4M</span>\\n  </td>\\n</tr>\\n<tr>\\n  <td style=\"width: 1px;\">\\n    <img class=\"icon\" src=\"/icons/camera.png\" alt=\"[   ]\" />\\n  </td>\\n  <td>\\n    <a class=\"link\" href=\"G0030368.JPG\">G0030368.JPG</a>\\n  </td>\\n  <td class=\"size\">\\n    <span class=\"size\">2</span><span class=\"unit\">.4M</span>\\n  </td>\\n</tr>\\n<tr>\\n  <td style=\"width: 1px;\">\\n    <img class=\"icon\" src=\"/icons/camera.png\" alt=\"[   ]\" />\\n  </td>\\n  <td>\\n    <a class=\"link\" href=\"G0030369.JPG\">G0030369.JPG</a>\\n  </td>\\n  <td class=\"size\">\\n    <span class=\"size\">2</span><span class=\"unit\">.4M</span>\\n  </td>\\n</tr>\\n<tr>\\n  <td style=\"width: 1px;\">\\n    <img class=\"icon\" src=\"/icons/camera.png\" alt=\"[   ]\" />\\n  </td>\\n  <td>\\n    <a class=\"link\" href=\"G0040370.JPG\">G0040370.JPG</a>\\n  </td>\\n  <td class=\"size\">\\n    <span class=\"size\">2</span><span class=\"unit\">.4M</span>\\n  </td>\\n</tr>\\n<tr>\\n  <td style=\"width: 1px;\">\\n    <img class=\"icon\" src=\"/icons/camera.png\" alt=\"[   ]\" />\\n  </td>\\n  <td>\\n    <a class=\"link\" href=\"G0040371.JPG\">G0040371.JPG</a>\\n  </td>\\n  <td class=\"size\">\\n    <span class=\"size\">2</span><span class=\"unit\">.4M</span>\\n  </td>\\n</tr>\\n<tr>\\n  <td style=\"width: 1px;\">\\n    <img class=\"icon\" src=\"/icons/camera.png\" alt=\"[   ]\" />\\n  </td>\\n  <td>\\n    <a class=\"link\" href=\"G0040372.JPG\">G0040372.JPG</a>\\n  </td>\\n  <td class=\"size\">\\n    <span class=\"size\">2</span><span class=\"unit\">.4M</span>\\n  </td>\\n</tr>\\n<tr>\\n  <td style=\"width: 1px;\">\\n    <img class=\"icon\" src=\"/icons/camera.png\" alt=\"[   ]\" />\\n  </td>\\n  <td>\\n    <a class=\"link\" href=\"G0040373.JPG\">G0040373.JPG</a>\\n  </td>\\n  <td class=\"size\">\\n    <span class=\"size\">2</span><span class=\"unit\">.4M</span>\\n  </td>\\n</tr>\\n<tr>\\n  <td style=\"width: 1px;\">\\n    <img class=\"icon\" src=\"/icons/camera.png\" alt=\"[   ]\" />\\n  </td>\\n  <td>\\n    <a class=\"link\" href=\"G0040374.JPG\">G0040374.JPG</a>\\n  </td>\\n  <td class=\"size\">\\n    <span class=\"size\">2</span><span class=\"unit\">.4M</span>\\n  </td>\\n</tr>\\n<tr>\\n  <td style=\"width: 1px;\">\\n    <img class=\"icon\" src=\"/icons/camera.png\" alt=\"[   ]\" />\\n  </td>\\n  <td>\\n    <a class=\"link\" href=\"G0040375.JPG\">G0040375.JPG</a>\\n  </td>\\n  <td class=\"size\">\\n    <span class=\"size\">2</span><span class=\"unit\">.4M</span>\\n  </td>\\n</tr>\\n<tr>\\n  <td style=\"width: 1px;\">\\n    <img class=\"icon\" src=\"/icons/camera.png\" alt=\"[   ]\" />\\n  </td>\\n  <td>\\n    <a class=\"link\" href=\"G0040376.JPG\">G0040376.JPG</a>\\n  </td>\\n  <td class=\"size\">\\n    <span class=\"size\">2</span><span class=\"unit\">.4M</span>\\n  </td>\\n</tr>\\n<tr>\\n  <td style=\"width: 1px;\">\\n    <img class=\"icon\" src=\"/icons/camera.png\" alt=\"[   ]\" />\\n  </td>\\n  <td>\\n    <a class=\"link\" href=\"G0040377.JPG\">G0040377.JPG</a>\\n  </td>\\n  <td class=\"size\">\\n    <span class=\"size\">2</span><span class=\"unit\">.4M</span>\\n  </td>\\n</tr>\\n<tr>\\n  <td style=\"width: 1px;\">\\n    <img class=\"icon\" src=\"/icons/camera.png\" alt=\"[   ]\" />\\n  </td>\\n  <td>\\n    <a class=\"link\" href=\"G0040378.JPG\">G0040378.JPG</a>\\n  </td>\\n  <td class=\"size\">\\n    <span class=\"size\">2</span><span class=\"unit\">.4M</span>\\n  </td>\\n</tr>\\n<tr>\\n  <td style=\"width: 1px;\">\\n    <img class=\"icon\" src=\"/icons/camera.png\" alt=\"[   ]\" />\\n  </td>\\n  <td>\\n    <a class=\"link\" href=\"G0040379.JPG\">G0040379.JPG</a>\\n  </td>\\n  <td class=\"size\">\\n    <span class=\"size\">2</span><span class=\"unit\">.4M</span>\\n  </td>\\n</tr>\\n<tr>\\n  <td style=\"width: 1px;\">\\n    <img class=\"icon\" src=\"/icons/camera.png\" alt=\"[   ]\" />\\n  </td>\\n  <td>\\n    <a class=\"link\" href=\"G0040380.JPG\">G0040380.JPG</a>\\n  </td>\\n  <td class=\"size\">\\n    <span class=\"size\">2</span><span class=\"unit\">.4M</span>\\n  </td>\\n</tr>\\n<tr>\\n  <td style=\"width: 1px;\">\\n    <img class=\"icon\" src=\"/icons/camera.png\" alt=\"[   ]\" />\\n  </td>\\n  <td>\\n    <a class=\"link\" href=\"G0040381.JPG\">G0040381.JPG</a>\\n  </td>\\n  <td class=\"size\">\\n    <span class=\"size\">2</span><span class=\"unit\">.4M</span>\\n  </td>\\n</tr>\\n<tr>\\n  <td style=\"width: 1px;\">\\n    <img class=\"icon\" src=\"/icons/camera.png\" alt=\"[   ]\" />\\n  </td>\\n  <td>\\n    <a class=\"link\" href=\"G0040382.JPG\">G0040382.JPG</a>\\n  </td>\\n  <td class=\"size\">\\n    <span class=\"size\">2</span><span class=\"unit\">.4M</span>\\n  </td>\\n</tr>\\n<tr>\\n  <td style=\"width: 1px;\">\\n    <img class=\"icon\" src=\"/icons/camera.png\" alt=\"[   ]\" />\\n  </td>\\n  <td>\\n    <a class=\"link\" href=\"G0040383.JPG\">G0040383.JPG</a>\\n  </td>\\n  <td class=\"size\">\\n    <span class=\"size\">2</span><span class=\"unit\">.4M</span>\\n  </td>\\n</tr>\\n<tr>\\n  <td style=\"width: 1px;\">\\n    <img class=\"icon\" src=\"/icons/camera.png\" alt=\"[   ]\" />\\n  </td>\\n  <td>\\n    <a class=\"link\" href=\"G0040384.JPG\">G0040384.JPG</a>\\n  </td>\\n  <td class=\"size\">\\n    <span class=\"size\">2</span><span class=\"unit\">.4M</span>\\n  </td>\\n</tr>\\n<tr>\\n  <td style=\"width: 1px;\">\\n    <img class=\"icon\" src=\"/icons/camera.png\" alt=\"[   ]\" />\\n  </td>\\n  <td>\\n    <a class=\"link\" href=\"G0040385.JPG\">G0040385.JPG</a>\\n  </td>\\n  <td class=\"size\">\\n    <span class=\"size\">2</span><span class=\"unit\">.4M</span>\\n  </td>\\n</tr>\\n<tr>\\n  <td style=\"width: 1px;\">\\n    <img class=\"icon\" src=\"/icons/camera.png\" alt=\"[   ]\" />\\n  </td>\\n  <td>\\n    <a class=\"link\" href=\"G0040386.JPG\">G0040386.JPG</a>\\n  </td>\\n  <td class=\"size\">\\n    <span class=\"size\">2</span><span class=\"unit\">.2M</span>\\n  </td>\\n</tr>\\n<tr>\\n  <td style=\"width: 1px;\">\\n    <img class=\"icon\" src=\"/icons/camera.png\" alt=\"[   ]\" />\\n  </td>\\n  <td>\\n    <a class=\"link\" href=\"G0040387.JPG\">G0040387.JPG</a>\\n  </td>\\n  <td class=\"size\">\\n    <span class=\"size\">2</span><span class=\"unit\">.2M</span>\\n  </td>\\n</tr>\\n\\t\\t</tbody>\\n\\t\\t</table>\\n\\n\\t</div><!-- ENDOF dirlist -->\\n\\t</div><!-- ENDOF main-->\\n</body>\\n</html>\\n'"
      ]
     },
     "execution_count": 28,
     "metadata": {},
     "output_type": "execute_result"
    }
   ],
   "source": [
    "cam4.SendUrlCmd('http://10.5.5.9:8080/videos/DCIM/100GOPRO/')"
   ]
  },
  {
   "cell_type": "code",
   "execution_count": 27,
   "metadata": {
    "collapsed": false
   },
   "outputs": [
    {
     "name": "stdout",
     "output_type": "stream",
     "text": [
      "  Transferring Batch1(328-345):\n",
      "\n",
      "HTTP Error 404: Not Found\n"
     ]
    },
    {
     "ename": "TypeError",
     "evalue": "must be string or buffer, not None",
     "output_type": "error",
     "traceback": [
      "\u001b[1;31m---------------------------------------------------------------------------\u001b[0m",
      "\u001b[1;31mTypeError\u001b[0m                                 Traceback (most recent call last)",
      "\u001b[1;32m<ipython-input-27-bd22d02368a2>\u001b[0m in \u001b[0;36m<module>\u001b[1;34m()\u001b[0m\n\u001b[1;32m----> 1\u001b[1;33m \u001b[0mcam4\u001b[0m\u001b[1;33m.\u001b[0m\u001b[0mCopyAllMultiShotFiles\u001b[0m\u001b[1;33m(\u001b[0m\u001b[1;34m'D:/data/'\u001b[0m\u001b[1;33m)\u001b[0m\u001b[1;33m\u001b[0m\u001b[0m\n\u001b[0m",
      "\u001b[1;32m<ipython-input-25-f78847cc5418>\u001b[0m in \u001b[0;36mCopyAllMultiShotFiles\u001b[1;34m(self, path)\u001b[0m\n\u001b[0;32m     86\u001b[0m                     \u001b[0mrawpic\u001b[0m\u001b[1;33m\u001b[0m\u001b[0m\n\u001b[0;32m     87\u001b[0m                     \u001b[1;32mwith\u001b[0m \u001b[0mopen\u001b[0m\u001b[1;33m(\u001b[0m\u001b[0mos\u001b[0m\u001b[1;33m.\u001b[0m\u001b[0mpath\u001b[0m\u001b[1;33m.\u001b[0m\u001b[0mjoin\u001b[0m\u001b[1;33m(\u001b[0m\u001b[0mtmppath\u001b[0m\u001b[1;33m,\u001b[0m\u001b[0mfilename\u001b[0m\u001b[1;33m)\u001b[0m\u001b[1;33m,\u001b[0m\u001b[1;34m'wb'\u001b[0m\u001b[1;33m)\u001b[0m \u001b[1;32mas\u001b[0m \u001b[0mtarget\u001b[0m\u001b[1;33m:\u001b[0m\u001b[1;33m\u001b[0m\u001b[0m\n\u001b[1;32m---> 88\u001b[1;33m                         \u001b[0mtarget\u001b[0m\u001b[1;33m.\u001b[0m\u001b[0mwrite\u001b[0m\u001b[1;33m(\u001b[0m\u001b[0mrawpic\u001b[0m\u001b[1;33m)\u001b[0m\u001b[1;33m\u001b[0m\u001b[0m\n\u001b[0m\u001b[0;32m     89\u001b[0m                     \u001b[1;32mprint\u001b[0m \u001b[1;34m\"    \"\u001b[0m\u001b[1;33m+\u001b[0m\u001b[0mfilename\u001b[0m\u001b[1;33m+\u001b[0m\u001b[1;34m\"Transffered.\"\u001b[0m\u001b[1;33m\u001b[0m\u001b[0m\n\u001b[0;32m     90\u001b[0m                 \u001b[1;32mprint\u001b[0m \u001b[1;34m\"  Batch%d(%s-%s) Transfered.\\n\"\u001b[0m\u001b[1;33m%\u001b[0m\u001b[1;33m(\u001b[0m\u001b[0mint\u001b[0m\u001b[1;33m(\u001b[0m\u001b[0mdata\u001b[0m\u001b[1;33m[\u001b[0m\u001b[1;34m'g'\u001b[0m\u001b[1;33m]\u001b[0m\u001b[1;33m)\u001b[0m\u001b[1;33m,\u001b[0m\u001b[0mdata\u001b[0m\u001b[1;33m[\u001b[0m\u001b[1;34m'b'\u001b[0m\u001b[1;33m]\u001b[0m\u001b[1;33m,\u001b[0m\u001b[0mdata\u001b[0m\u001b[1;33m[\u001b[0m\u001b[1;34m'l'\u001b[0m\u001b[1;33m]\u001b[0m\u001b[1;33m)\u001b[0m\u001b[1;33m\u001b[0m\u001b[0m\n",
      "\u001b[1;31mTypeError\u001b[0m: must be string or buffer, not None"
     ]
    }
   ],
   "source": [
    "cam4.CopyAllMultiShotFiles('D:/data/')"
   ]
  },
  {
   "cell_type": "code",
   "execution_count": 46,
   "metadata": {
    "collapsed": false,
    "scrolled": true
   },
   "outputs": [
    {
     "data": {
      "text/plain": [
       "'G002'"
      ]
     },
     "execution_count": 46,
     "metadata": {},
     "output_type": "execute_result"
    }
   ],
   "source": [
    "cam1."
   ]
  },
  {
   "cell_type": "code",
   "execution_count": 43,
   "metadata": {
    "collapsed": false
   },
   "outputs": [],
   "source": [
    "camarraycmd.Wake(camarray)"
   ]
  },
  {
   "cell_type": "code",
   "execution_count": 127,
   "metadata": {
    "collapsed": false
   },
   "outputs": [
    {
     "name": "stdout",
     "output_type": "stream",
     "text": [
      "sending gopro 1: \n",
      "\n",
      "sending finished \n",
      "\n",
      "sending gopro 2: \n",
      "\n",
      "sending finished \n",
      "\n",
      "sending gopro 3: \n",
      "\n",
      "sending finished \n",
      "\n",
      "sending gopro 4: \n",
      "\n",
      "sending finished \n",
      "\n",
      "sending gopro 5: \n",
      "\n",
      "sending finished \n",
      "\n",
      "sending gopro 6: \n",
      "\n",
      "sending finished \n",
      "\n",
      "sending gopro 7: \n",
      "\n",
      "sending finished \n",
      "\n",
      "sending gopro 8: \n",
      "\n",
      "sending finished \n",
      "\n",
      "sending gopro 9: \n",
      "\n",
      "sending finished \n",
      "\n",
      "sending gopro 10: \n",
      "\n",
      "sending finished \n",
      "\n",
      "sending gopro 11: \n",
      "\n",
      "sending finished \n",
      "\n",
      "sending gopro 12: \n",
      "\n",
      "sending finished \n",
      "\n",
      "sending gopro 13: \n",
      "\n",
      "sending finished \n",
      "\n",
      "sending gopro 14: \n",
      "\n",
      "sending finished \n",
      "\n",
      "sending gopro 15: \n",
      "\n",
      "sending finished \n",
      "\n",
      "sending gopro 16: \n",
      "\n",
      "cam16 failed:<urlopen error timed out>\n"
     ]
    }
   ],
   "source": [
    "camarraycmd.SetControl(camarray,cmddict['Utils']['Shutter']['Press'])"
   ]
  },
  {
   "cell_type": "code",
   "execution_count": 21,
   "metadata": {
    "collapsed": false
   },
   "outputs": [
    {
     "name": "stdout",
     "output_type": "stream",
     "text": [
      "sending gopro 1: \n",
      "\n",
      "sending finished \n",
      "\n",
      "sending gopro 2: \n",
      "\n",
      "sending finished \n",
      "\n",
      "sending gopro 3: \n",
      "\n",
      "sending finished \n",
      "\n",
      "sending gopro 4: \n",
      "\n",
      "sending finished \n",
      "\n",
      "sending gopro 5: \n",
      "\n",
      "sending finished \n",
      "\n",
      "sending gopro 6: \n",
      "\n",
      "sending finished \n",
      "\n",
      "sending gopro 7: \n",
      "\n",
      "sending finished \n",
      "\n",
      "sending gopro 8: \n",
      "\n",
      "sending finished \n",
      "\n",
      "sending gopro 9: \n",
      "\n",
      "sending finished \n",
      "\n",
      "sending gopro 10: \n",
      "\n",
      "sending finished \n",
      "\n",
      "sending gopro 11: \n",
      "\n",
      "sending finished \n",
      "\n",
      "sending gopro 12: \n",
      "\n",
      "sending finished \n",
      "\n",
      "sending gopro 13: \n",
      "\n",
      "sending finished \n",
      "\n",
      "sending gopro 14: \n",
      "\n",
      "sending finished \n",
      "\n",
      "sending gopro 15: \n",
      "\n",
      "sending finished \n",
      "\n",
      "sending gopro 16: \n",
      "\n",
      "sending finished \n",
      "\n"
     ]
    }
   ],
   "source": [
    "camarraycmd.SetControl(camarray,cmddict['Utils']['Shutter']['Release'])"
   ]
  },
  {
   "cell_type": "code",
   "execution_count": 131,
   "metadata": {
    "collapsed": false
   },
   "outputs": [
    {
     "name": "stdout",
     "output_type": "stream",
     "text": [
      "sending gopro 16: \n",
      "\n",
      "sending finished \n",
      "\n"
     ]
    },
    {
     "data": {
      "text/plain": [
       "'{}\\n'"
      ]
     },
     "execution_count": 131,
     "metadata": {},
     "output_type": "execute_result"
    }
   ],
   "source": [
    "camarray[15].SendUrlCmd(cmddict['Utils']['Shutter']['Release'])"
   ]
  },
  {
   "cell_type": "code",
   "execution_count": 20,
   "metadata": {
    "collapsed": false,
    "scrolled": true
   },
   "outputs": [
    {
     "name": "stdout",
     "output_type": "stream",
     "text": [
      "sending gopro 1: \n",
      "\n",
      "sending finished \n",
      "\n",
      "sending gopro 2: \n",
      "\n",
      "sending finished \n",
      "\n",
      "sending gopro 3: \n",
      "\n",
      "sending finished \n",
      "\n",
      "sending gopro 4: \n",
      "\n",
      "sending finished \n",
      "\n",
      "sending gopro 5: \n",
      "\n",
      "sending finished \n",
      "\n",
      "sending gopro 6: \n",
      "\n",
      "sending finished \n",
      "\n",
      "sending gopro 7: \n",
      "\n",
      "sending finished \n",
      "\n",
      "sending gopro 8: \n",
      "\n",
      "sending finished \n",
      "\n",
      "sending gopro 9: \n",
      "\n",
      "sending finished \n",
      "\n",
      "sending gopro 10: \n",
      "\n",
      "sending finished \n",
      "\n",
      "sending gopro 11: \n",
      "\n",
      "sending finished \n",
      "\n",
      "sending gopro 12: \n",
      "\n",
      "sending finished \n",
      "\n",
      "sending gopro 13: \n",
      "\n",
      "sending finished \n",
      "\n",
      "sending gopro 14: \n",
      "\n",
      "sending finished \n",
      "\n",
      "sending gopro 15: \n",
      "\n",
      "sending finished \n",
      "\n",
      "sending gopro 16: \n",
      "\n",
      "sending finished \n",
      "\n"
     ]
    }
   ],
   "source": [
    "camarraycmd.SetControl(camarray,cmddict['Utils']['Delete']['All'])"
   ]
  },
  {
   "cell_type": "code",
   "execution_count": 132,
   "metadata": {
    "collapsed": false,
    "scrolled": false
   },
   "outputs": [
    {
     "name": "stdout",
     "output_type": "stream",
     "text": [
      "Transsferring Gopro1:\n",
      "\n",
      "sending gopro 1: \n",
      "\n",
      "sending finished \n",
      "\n",
      "G0013577.JPG\n",
      "sending gopro 1: \n",
      "\n",
      "sending finished \n",
      "\n",
      "finished.\n",
      "Transsferring Gopro2:\n",
      "\n",
      "sending gopro 2: \n",
      "\n",
      "sending finished \n",
      "\n",
      "G0013576.JPG\n",
      "sending gopro 2: \n",
      "\n",
      "sending finished \n",
      "\n",
      "finished.\n",
      "Transsferring Gopro3:\n",
      "\n",
      "sending gopro 3: \n",
      "\n",
      "sending finished \n",
      "\n",
      "G0013824.JPG\n",
      "sending gopro 3: \n",
      "\n",
      "sending finished \n",
      "\n",
      "finished.\n",
      "Transsferring Gopro4:\n",
      "\n",
      "sending gopro 4: \n",
      "\n",
      "sending finished \n",
      "\n",
      "G0010163.JPG\n",
      "sending gopro 4: \n",
      "\n",
      "sending finished \n",
      "\n",
      "finished.\n",
      "Transsferring Gopro5:\n",
      "\n",
      "sending gopro 5: \n",
      "\n",
      "sending finished \n",
      "\n",
      "G0012064.JPG\n",
      "sending gopro 5: \n",
      "\n",
      "sending finished \n",
      "\n",
      "finished.\n",
      "Transsferring Gopro6:\n",
      "\n",
      "sending gopro 6: \n",
      "\n",
      "sending finished \n",
      "\n",
      "G0012293.JPG\n",
      "sending gopro 6: \n",
      "\n",
      "sending finished \n",
      "\n",
      "finished.\n",
      "Transsferring Gopro7:\n",
      "\n",
      "sending gopro 7: \n",
      "\n",
      "sending finished \n",
      "\n",
      "G0011841.JPG\n",
      "sending gopro 7: \n",
      "\n",
      "sending finished \n",
      "\n",
      "finished.\n",
      "Transsferring Gopro8:\n",
      "\n",
      "sending gopro 8: \n",
      "\n",
      "sending finished \n",
      "\n",
      "G0012001.JPG\n",
      "sending gopro 8: \n",
      "\n",
      "sending finished \n",
      "\n",
      "finished.\n",
      "Transsferring Gopro9:\n",
      "\n",
      "sending gopro 9: \n",
      "\n",
      "sending finished \n",
      "\n",
      "G0013798.JPG\n",
      "sending gopro 9: \n",
      "\n",
      "sending finished \n",
      "\n",
      "finished.\n",
      "Transsferring Gopro10:\n",
      "\n",
      "sending gopro 10: \n",
      "\n"
     ]
    },
    {
     "ename": "timeout",
     "evalue": "timed out",
     "output_type": "error",
     "traceback": [
      "\u001b[1;31m---------------------------------------------------------------------------\u001b[0m",
      "\u001b[1;31mtimeout\u001b[0m                                   Traceback (most recent call last)",
      "\u001b[1;32m<ipython-input-132-02591304fd25>\u001b[0m in \u001b[0;36m<module>\u001b[1;34m()\u001b[0m\n\u001b[1;32m----> 1\u001b[1;33m \u001b[0mcamarraycmd\u001b[0m\u001b[1;33m.\u001b[0m\u001b[0mGetLastImage\u001b[0m\u001b[1;33m(\u001b[0m\u001b[0mcamarray\u001b[0m\u001b[1;33m)\u001b[0m\u001b[1;33m\u001b[0m\u001b[0m\n\u001b[0m",
      "\u001b[1;32m<ipython-input-69-bc2ba9199c7c>\u001b[0m in \u001b[0;36mGetLastImage\u001b[1;34m(self, camarray)\u001b[0m\n\u001b[0;32m     98\u001b[0m     \u001b[1;32mdef\u001b[0m \u001b[0mGetLastImage\u001b[0m\u001b[1;33m(\u001b[0m\u001b[0mself\u001b[0m\u001b[1;33m,\u001b[0m\u001b[0mcamarray\u001b[0m\u001b[1;33m)\u001b[0m\u001b[1;33m:\u001b[0m\u001b[1;33m\u001b[0m\u001b[0m\n\u001b[0;32m     99\u001b[0m         \u001b[1;32mfor\u001b[0m \u001b[0mcam\u001b[0m \u001b[1;32min\u001b[0m \u001b[0mcamarray\u001b[0m\u001b[1;33m:\u001b[0m\u001b[1;33m\u001b[0m\u001b[0m\n\u001b[1;32m--> 100\u001b[1;33m             \u001b[0mcam\u001b[0m\u001b[1;33m.\u001b[0m\u001b[0mGetLastImg\u001b[0m\u001b[1;33m(\u001b[0m\u001b[1;34m\"D:\\gopro_multiview_gui\"\u001b[0m\u001b[1;33m)\u001b[0m\u001b[1;33m\u001b[0m\u001b[0m\n\u001b[0m\u001b[0;32m    101\u001b[0m \u001b[1;33m\u001b[0m\u001b[0m\n\u001b[0;32m    102\u001b[0m \u001b[1;33m\u001b[0m\u001b[0m\n",
      "\u001b[1;32m<ipython-input-69-bc2ba9199c7c>\u001b[0m in \u001b[0;36mGetLastImg\u001b[1;34m(self, path)\u001b[0m\n\u001b[0;32m     55\u001b[0m         \u001b[1;32mif\u001b[0m \u001b[1;32mnot\u001b[0m \u001b[0mos\u001b[0m\u001b[1;33m.\u001b[0m\u001b[0mpath\u001b[0m\u001b[1;33m.\u001b[0m\u001b[0mexists\u001b[0m\u001b[1;33m(\u001b[0m\u001b[0mcampath\u001b[0m\u001b[1;33m)\u001b[0m\u001b[1;33m:\u001b[0m\u001b[1;33m\u001b[0m\u001b[0m\n\u001b[0;32m     56\u001b[0m             \u001b[0mos\u001b[0m\u001b[1;33m.\u001b[0m\u001b[0mmkdir\u001b[0m\u001b[1;33m(\u001b[0m\u001b[0mcampath\u001b[0m\u001b[1;33m)\u001b[0m\u001b[1;33m\u001b[0m\u001b[0m\n\u001b[1;32m---> 57\u001b[1;33m         \u001b[0mfilelist\u001b[0m \u001b[1;33m=\u001b[0m \u001b[0mjson\u001b[0m\u001b[1;33m.\u001b[0m\u001b[0mloads\u001b[0m\u001b[1;33m(\u001b[0m\u001b[0mself\u001b[0m\u001b[1;33m.\u001b[0m\u001b[0mSendUrlCmd\u001b[0m\u001b[1;33m(\u001b[0m\u001b[1;34m\"http://10.5.5.9:8080/gp/gpMediaList\"\u001b[0m\u001b[1;33m)\u001b[0m\u001b[1;33m)\u001b[0m\u001b[1;33m[\u001b[0m\u001b[1;34m'media'\u001b[0m\u001b[1;33m]\u001b[0m\u001b[1;33m[\u001b[0m\u001b[1;36m0\u001b[0m\u001b[1;33m]\u001b[0m\u001b[1;33m[\u001b[0m\u001b[1;34m'fs'\u001b[0m\u001b[1;33m]\u001b[0m\u001b[1;33m\u001b[0m\u001b[0m\n\u001b[0m\u001b[0;32m     58\u001b[0m         \u001b[0mfilename\u001b[0m \u001b[1;33m=\u001b[0m \u001b[0mfilelist\u001b[0m\u001b[1;33m[\u001b[0m\u001b[1;33m-\u001b[0m\u001b[1;36m1\u001b[0m\u001b[1;33m]\u001b[0m\u001b[1;33m[\u001b[0m\u001b[1;34m'n'\u001b[0m\u001b[1;33m]\u001b[0m\u001b[1;33m\u001b[0m\u001b[0m\n\u001b[0;32m     59\u001b[0m         \u001b[1;32mprint\u001b[0m \u001b[0mfilename\u001b[0m\u001b[1;33m\u001b[0m\u001b[0m\n",
      "\u001b[1;32m<ipython-input-69-bc2ba9199c7c>\u001b[0m in \u001b[0;36mSendUrlCmd\u001b[1;34m(self, url)\u001b[0m\n\u001b[0;32m     26\u001b[0m     \u001b[1;32mdef\u001b[0m \u001b[0mSendUrlCmd\u001b[0m\u001b[1;33m(\u001b[0m\u001b[0mself\u001b[0m\u001b[1;33m,\u001b[0m\u001b[0murl\u001b[0m\u001b[1;33m)\u001b[0m\u001b[1;33m:\u001b[0m\u001b[1;33m\u001b[0m\u001b[0m\n\u001b[0;32m     27\u001b[0m         \u001b[1;32mprint\u001b[0m \u001b[1;34m\"sending gopro %d: \\n\"\u001b[0m\u001b[1;33m%\u001b[0m\u001b[0mself\u001b[0m\u001b[1;33m.\u001b[0m\u001b[0mindex\u001b[0m\u001b[1;33m\u001b[0m\u001b[0m\n\u001b[1;32m---> 28\u001b[1;33m         \u001b[0mresult\u001b[0m \u001b[1;33m=\u001b[0m \u001b[0mself\u001b[0m\u001b[1;33m.\u001b[0m\u001b[0mopener\u001b[0m\u001b[1;33m.\u001b[0m\u001b[0mopen\u001b[0m\u001b[1;33m(\u001b[0m\u001b[0murl\u001b[0m\u001b[1;33m,\u001b[0m \u001b[0mtimeout\u001b[0m\u001b[1;33m=\u001b[0m\u001b[1;36m4\u001b[0m\u001b[1;33m)\u001b[0m\u001b[1;33m.\u001b[0m\u001b[0mread\u001b[0m\u001b[1;33m(\u001b[0m\u001b[1;33m)\u001b[0m\u001b[1;33m\u001b[0m\u001b[0m\n\u001b[0m\u001b[0;32m     29\u001b[0m         \u001b[1;32mprint\u001b[0m \u001b[1;34m\"sending finished \\n\"\u001b[0m\u001b[1;33m\u001b[0m\u001b[0m\n\u001b[0;32m     30\u001b[0m         \u001b[1;32mreturn\u001b[0m \u001b[0mresult\u001b[0m\u001b[1;33m\u001b[0m\u001b[0m\n",
      "\u001b[1;32mc:\\python27\\lib\\socket.pyc\u001b[0m in \u001b[0;36mread\u001b[1;34m(self, size)\u001b[0m\n\u001b[0;32m    349\u001b[0m             \u001b[1;32mwhile\u001b[0m \u001b[0mTrue\u001b[0m\u001b[1;33m:\u001b[0m\u001b[1;33m\u001b[0m\u001b[0m\n\u001b[0;32m    350\u001b[0m                 \u001b[1;32mtry\u001b[0m\u001b[1;33m:\u001b[0m\u001b[1;33m\u001b[0m\u001b[0m\n\u001b[1;32m--> 351\u001b[1;33m                     \u001b[0mdata\u001b[0m \u001b[1;33m=\u001b[0m \u001b[0mself\u001b[0m\u001b[1;33m.\u001b[0m\u001b[0m_sock\u001b[0m\u001b[1;33m.\u001b[0m\u001b[0mrecv\u001b[0m\u001b[1;33m(\u001b[0m\u001b[0mrbufsize\u001b[0m\u001b[1;33m)\u001b[0m\u001b[1;33m\u001b[0m\u001b[0m\n\u001b[0m\u001b[0;32m    352\u001b[0m                 \u001b[1;32mexcept\u001b[0m \u001b[0merror\u001b[0m\u001b[1;33m,\u001b[0m \u001b[0me\u001b[0m\u001b[1;33m:\u001b[0m\u001b[1;33m\u001b[0m\u001b[0m\n\u001b[0;32m    353\u001b[0m                     \u001b[1;32mif\u001b[0m \u001b[0me\u001b[0m\u001b[1;33m.\u001b[0m\u001b[0margs\u001b[0m\u001b[1;33m[\u001b[0m\u001b[1;36m0\u001b[0m\u001b[1;33m]\u001b[0m \u001b[1;33m==\u001b[0m \u001b[0mEINTR\u001b[0m\u001b[1;33m:\u001b[0m\u001b[1;33m\u001b[0m\u001b[0m\n",
      "\u001b[1;32mc:\\python27\\lib\\httplib.pyc\u001b[0m in \u001b[0;36mread\u001b[1;34m(self, amt)\u001b[0m\n\u001b[0;32m    565\u001b[0m         \u001b[1;31m# connection, and the user is reading more bytes than will be provided\u001b[0m\u001b[1;33m\u001b[0m\u001b[1;33m\u001b[0m\u001b[0m\n\u001b[0;32m    566\u001b[0m         \u001b[1;31m# (for example, reading in 1k chunks)\u001b[0m\u001b[1;33m\u001b[0m\u001b[1;33m\u001b[0m\u001b[0m\n\u001b[1;32m--> 567\u001b[1;33m         \u001b[0ms\u001b[0m \u001b[1;33m=\u001b[0m \u001b[0mself\u001b[0m\u001b[1;33m.\u001b[0m\u001b[0mfp\u001b[0m\u001b[1;33m.\u001b[0m\u001b[0mread\u001b[0m\u001b[1;33m(\u001b[0m\u001b[0mamt\u001b[0m\u001b[1;33m)\u001b[0m\u001b[1;33m\u001b[0m\u001b[0m\n\u001b[0m\u001b[0;32m    568\u001b[0m         \u001b[1;32mif\u001b[0m \u001b[1;32mnot\u001b[0m \u001b[0ms\u001b[0m \u001b[1;32mand\u001b[0m \u001b[0mamt\u001b[0m\u001b[1;33m:\u001b[0m\u001b[1;33m\u001b[0m\u001b[0m\n\u001b[0;32m    569\u001b[0m             \u001b[1;31m# Ideally, we would raise IncompleteRead if the content-length\u001b[0m\u001b[1;33m\u001b[0m\u001b[1;33m\u001b[0m\u001b[0m\n",
      "\u001b[1;32mc:\\python27\\lib\\socket.pyc\u001b[0m in \u001b[0;36mread\u001b[1;34m(self, size)\u001b[0m\n\u001b[0;32m    378\u001b[0m                 \u001b[1;31m# fragmentation issues on many platforms.\u001b[0m\u001b[1;33m\u001b[0m\u001b[1;33m\u001b[0m\u001b[0m\n\u001b[0;32m    379\u001b[0m                 \u001b[1;32mtry\u001b[0m\u001b[1;33m:\u001b[0m\u001b[1;33m\u001b[0m\u001b[0m\n\u001b[1;32m--> 380\u001b[1;33m                     \u001b[0mdata\u001b[0m \u001b[1;33m=\u001b[0m \u001b[0mself\u001b[0m\u001b[1;33m.\u001b[0m\u001b[0m_sock\u001b[0m\u001b[1;33m.\u001b[0m\u001b[0mrecv\u001b[0m\u001b[1;33m(\u001b[0m\u001b[0mleft\u001b[0m\u001b[1;33m)\u001b[0m\u001b[1;33m\u001b[0m\u001b[0m\n\u001b[0m\u001b[0;32m    381\u001b[0m                 \u001b[1;32mexcept\u001b[0m \u001b[0merror\u001b[0m\u001b[1;33m,\u001b[0m \u001b[0me\u001b[0m\u001b[1;33m:\u001b[0m\u001b[1;33m\u001b[0m\u001b[0m\n\u001b[0;32m    382\u001b[0m                     \u001b[1;32mif\u001b[0m \u001b[0me\u001b[0m\u001b[1;33m.\u001b[0m\u001b[0margs\u001b[0m\u001b[1;33m[\u001b[0m\u001b[1;36m0\u001b[0m\u001b[1;33m]\u001b[0m \u001b[1;33m==\u001b[0m \u001b[0mEINTR\u001b[0m\u001b[1;33m:\u001b[0m\u001b[1;33m\u001b[0m\u001b[0m\n",
      "\u001b[1;31mtimeout\u001b[0m: timed out"
     ]
    }
   ],
   "source": [
    "camarraycmd.GetLastImage(camarray)"
   ]
  },
  {
   "cell_type": "code",
   "execution_count": 136,
   "metadata": {
    "collapsed": false
   },
   "outputs": [
    {
     "name": "stdout",
     "output_type": "stream",
     "text": [
      "sending gopro 10: \n",
      "\n",
      "sending finished \n",
      "\n",
      "sending gopro 10: \n",
      "\n",
      "sending finished \n",
      "\n"
     ]
    },
    {
     "data": {
      "text/plain": [
       "'{}\\n'"
      ]
     },
     "execution_count": 136,
     "metadata": {},
     "output_type": "execute_result"
    }
   ],
   "source": []
  },
  {
   "cell_type": "code",
   "execution_count": 17,
   "metadata": {
    "collapsed": false
   },
   "outputs": [],
   "source": [
    "camarraycmd.Wake(camarray)"
   ]
  },
  {
   "cell_type": "markdown",
   "metadata": {},
   "source": []
  },
  {
   "cell_type": "code",
   "execution_count": 22,
   "metadata": {
    "collapsed": false
   },
   "outputs": [],
   "source": [
    "cam1= camarray[0]"
   ]
  },
  {
   "cell_type": "code",
   "execution_count": 58,
   "metadata": {
    "collapsed": false
   },
   "outputs": [
    {
     "name": "stdout",
     "output_type": "stream",
     "text": [
      "sending gopro 1: \n",
      "\n",
      "sending finished \n",
      "\n"
     ]
    }
   ],
   "source": [
    "out = cam1.SendUrlCmd(cmddict['FilePath'])"
   ]
  },
  {
   "cell_type": "code",
   "execution_count": 80,
   "metadata": {
    "collapsed": false
   },
   "outputs": [],
   "source": [
    "a={'1234':4,'a':1,'asdfdsgf':2,'zzz':1}"
   ]
  },
  {
   "cell_type": "code",
   "execution_count": 81,
   "metadata": {
    "collapsed": false
   },
   "outputs": [
    {
     "data": {
      "text/plain": [
       "['1234', 'a', 'asdfdsgf', 'zzz']"
      ]
     },
     "execution_count": 81,
     "metadata": {},
     "output_type": "execute_result"
    }
   ],
   "source": [
    "sorted(a)"
   ]
  },
  {
   "cell_type": "code",
   "execution_count": null,
   "metadata": {
    "collapsed": true
   },
   "outputs": [],
   "source": [
    "cam"
   ]
  }
 ],
 "metadata": {
  "kernelspec": {
   "display_name": "Python 2",
   "language": "python",
   "name": "python2"
  },
  "language_info": {
   "codemirror_mode": {
    "name": "ipython",
    "version": 2
   },
   "file_extension": ".py",
   "mimetype": "text/x-python",
   "name": "python",
   "nbconvert_exporter": "python",
   "pygments_lexer": "ipython2",
   "version": "2.7.8"
  }
 },
 "nbformat": 4,
 "nbformat_minor": 0
}
