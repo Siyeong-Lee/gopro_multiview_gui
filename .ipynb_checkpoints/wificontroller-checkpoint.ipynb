{
 "cells": [
  {
   "cell_type": "code",
   "execution_count": 14,
   "metadata": {
    "collapsed": false
   },
   "outputs": [],
   "source": [
    "import subprocess, os, sys\n",
    "class WifiController():\n",
    "    def __init__(self):\n",
    "        self.interfaces = []\n",
    "        self.interfacesnumber = 0\n",
    "        self.mappingpath = \"\"\n",
    "    def RemoveAllProfile(self):\n",
    "        os.system('netsh wlan delete profile *')\n",
    "    def RegisterAllInterfaces(self):\n",
    "        allinterface = self.GetRawInterfaceInfo()\n",
    "        self.interfacesnumber = 0\n",
    "        self.interfaces = []\n",
    "        for line in allinterface.splitlines():\n",
    "            if line.find('Name')>-1:\n",
    "                self.interfaces.append(dict())\n",
    "                self.interfacesnumber+=1\n",
    "                self.interfaces[self.interfacesnumber-1]['Name'] = line[line.find(\":\")+2:]\n",
    "            elif line.find('Physical')>-1:\n",
    "                self.interfaces[self.interfacesnumber-1]['Mac'] = line[line.find(\":\")+2:]\n",
    "            elif line.find('State')>-1:\n",
    "                self.interfaces[self.interfacesnumber-1]['State'] = line[line.find(\":\")+2:]\n",
    "            elif (line.find('SSID')>-1 and line.find('BSSID')==-1):\n",
    "                self.interfaces[self.interfacesnumber-1]['SSID'] = line[line.find(\":\")+2:]\n",
    "    def GetRawInterfaceInfo(self,isprint = 0):\n",
    "        allinterface = subprocess.Popen(\"netsh wlan show interface\", stdout=subprocess.PIPE).stdout.read()\n",
    "        allinterface = allinterface.decode('cp437')\n",
    "        if (isprint==1):\n",
    "            print allinterface\n",
    "        return allinterface\n",
    "    def GetDisconnectedInterfaceName(self):\n",
    "        name = []\n",
    "        for interface in self.interfaces:\n",
    "            if interface['State']==\"disconnected\":\n",
    "                name.append(interface['Name'])\n",
    "        return name\n",
    "    def QuickStat(self):\n",
    "        self.RegisterAllInterfaces()\n",
    "        for interface in self.interfaces:\n",
    "            if interface.has_key(\"SSID\"):\n",
    "                interface['IP'] = self.GetIpByName(interface['Name'])\n",
    "                print interface['Name']+' : '+interface['SSID']+'   '+interface['IP']+'\\n'\n",
    "            else:\n",
    "                print interface['Name']+' : '+interface['State']+'\\n'\n",
    "        return\n",
    "    def ConnectByName(self,name,goproID):\n",
    "        s = 'netsh wlan add profile filename=\"GoproNumber%d.xml\" interface=\"%s\"' % (goproID, name)\n",
    "        print subprocess.Popen(s, stdout=subprocess.PIPE).stdout.read().decode('cp437')\n",
    "        s = 'netsh wlan connect name=\"GoproNumber%d\" interface=\"%s\"' % (goproID, name)\n",
    "        print subprocess.Popen(s, stdout=subprocess.PIPE).stdout.read().decode('cp437')\n",
    "        s = 'netsh interface ip set address name=\"%s\" source=static \\\n",
    "            addr=10.5.5.%d mask=255.255.255.0 gateway=10.5.5.9' % (name, goproID+100)\n",
    "        print subprocess.Popen(s, stdout=subprocess.PIPE).stdout.read().decode('cp437')\n",
    "        self.RegisterAllInterfaces\n",
    "    def GetConnectedGopros(self):\n",
    "        connectedgopros = []\n",
    "        for interface in self.interfaces:\n",
    "            if(interface.has_key(\"SSID\") and interface[\"SSID\"].find('GoproNumber')>-1):\n",
    "                connectedgopros.append(int(interface[\"SSID\"][11:]))\n",
    "        return connectedgopros\n",
    "    def GetIpByName(self,name):\n",
    "        raw = subprocess.Popen('ipconfig', stdout=subprocess.PIPE).stdout.read().decode('cp437').split('\\n')\n",
    "        iscurrent = False\n",
    "        for lines in raw:\n",
    "            if lines.find(name+\":\")>-1:\n",
    "                iscurrent = True\n",
    "            if lines.find('IPv4')>-1 and iscurrent == True:\n",
    "                ip =  lines[lines.find(':')+2:]\n",
    "                return ip\n",
    "    def QuickConnect(self):\n",
    "        self.RegisterAllInterfaces()\n",
    "        names = self.GetDisconnectedInterfaceName()\n",
    "        onlinegp = self.GetConnectedGopros()\n",
    "        offlinegp=[]\n",
    "        for id in range(1,17):\n",
    "            if id in onlinegp:\n",
    "                continue\n",
    "            else:\n",
    "                offlinegp.append(id)\n",
    "        for i in range(0,len(names)):\n",
    "            self.ConnectByName(names[i],offlinegp[i])\n",
    "        return"
   ]
  },
  {
   "cell_type": "code",
   "execution_count": 20,
   "metadata": {
    "collapsed": false
   },
   "outputs": [
    {
     "ename": "TypeError",
     "evalue": "RemoveAllProfile() takes no arguments (1 given)",
     "output_type": "error",
     "traceback": [
      "\u001b[1;31m---------------------------------------------------------------------------\u001b[0m",
      "\u001b[1;31mTypeError\u001b[0m                                 Traceback (most recent call last)",
      "\u001b[1;32m<ipython-input-20-d71a8c75c0b2>\u001b[0m in \u001b[0;36m<module>\u001b[1;34m()\u001b[0m\n\u001b[0;32m      1\u001b[0m \u001b[0mwificntr\u001b[0m \u001b[1;33m=\u001b[0m \u001b[0mWifiController\u001b[0m\u001b[1;33m(\u001b[0m\u001b[1;33m)\u001b[0m\u001b[1;33m\u001b[0m\u001b[0m\n\u001b[1;32m----> 2\u001b[1;33m \u001b[0mwificntr\u001b[0m\u001b[1;33m.\u001b[0m\u001b[0mRemoveAllProfile\u001b[0m\u001b[1;33m(\u001b[0m\u001b[1;33m)\u001b[0m\u001b[1;33m\u001b[0m\u001b[0m\n\u001b[0m\u001b[0;32m      3\u001b[0m \u001b[0mwificntr\u001b[0m\u001b[1;33m.\u001b[0m\u001b[0mQuickConnect\u001b[0m\u001b[1;33m(\u001b[0m\u001b[1;33m)\u001b[0m\u001b[1;33m\u001b[0m\u001b[0m\n",
      "\u001b[1;31mTypeError\u001b[0m: RemoveAllProfile() takes no arguments (1 given)"
     ]
    }
   ],
   "source": [
    "wificntr = WifiController()\n",
    "wificntr.RemoveAllProfile()\n",
    "wificntr.QuickConnect()"
   ]
  }
 ],
 "metadata": {
  "kernelspec": {
   "display_name": "Python 2",
   "language": "python",
   "name": "python2"
  },
  "language_info": {
   "codemirror_mode": {
    "name": "ipython",
    "version": 2
   },
   "file_extension": ".py",
   "mimetype": "text/x-python",
   "name": "python",
   "nbconvert_exporter": "python",
   "pygments_lexer": "ipython2",
   "version": "2.7.8"
  }
 },
 "nbformat": 4,
 "nbformat_minor": 0
}
