{
 "cells": [
  {
   "cell_type": "code",
   "execution_count": 15,
   "metadata": {
    "collapsed": false
   },
   "outputs": [],
   "source": [
    "import WifiControl\n",
    "wificntr = WifiControl.WifiController()"
   ]
  },
  {
   "cell_type": "code",
   "execution_count": 19,
   "metadata": {
    "collapsed": false
   },
   "outputs": [
    {
     "name": "stdout",
     "output_type": "stream",
     "text": [
      "WLAN 2 : Tsinghua\n",
      "\n",
      "WLAN 5 : GoproNumber1\n",
      "\n",
      "WLAN 10 : GoproNumber2\n",
      "\n",
      "WLAN 7 : disconnected\n",
      "\n",
      "WLAN 9 : disconnected\n",
      "\n",
      "WLAN 4 : disconnected\n",
      "\n",
      "WLAN 8 : disconnected\n",
      "\n",
      "WLAN 6 : disconnected\n",
      "\n",
      "WLAN : disconnected\n",
      "\n"
     ]
    }
   ],
   "source": [
    "wificntr.RegisterAllInterfaces()\n",
    "wificntr.QuickStat()"
   ]
  },
  {
   "cell_type": "code",
   "execution_count": 18,
   "metadata": {
    "collapsed": false
   },
   "outputs": [
    {
     "name": "stdout",
     "output_type": "stream",
     "text": [
      "Profile GoproNumber2 is added on interface WLAN 10.\n",
      "\n",
      "Connection request was completed successfully.\n",
      "\n",
      "\n",
      "\n",
      "Profile GoproNumber3 is added on interface WLAN 7.\n",
      "\n",
      "The network specified by profile \"GoproNumber3\" is not available to connect.\n",
      "\n",
      "\n",
      "\n",
      "Profile GoproNumber4 is added on interface WLAN 9.\n",
      "\n",
      "The network specified by profile \"GoproNumber4\" is not available to connect.\n",
      "\n",
      "\n",
      "\n",
      "Profile GoproNumber5 is added on interface WLAN 4.\n",
      "\n",
      "The network specified by profile \"GoproNumber5\" is not available to connect.\n",
      "\n",
      "\n",
      "\n",
      "Profile GoproNumber6 is added on interface WLAN 8.\n",
      "\n",
      "The network specified by profile \"GoproNumber6\" is not available to connect.\n",
      "\n",
      "\n",
      "\n",
      "Profile GoproNumber7 is added on interface WLAN 6.\n",
      "\n",
      "The network specified by profile \"GoproNumber7\" is not available to connect.\n",
      "\n",
      "\n",
      "\n",
      "Profile GoproNumber8 is added on interface WLAN.\n",
      "\n",
      "The network specified by profile \"GoproNumber8\" is not available to connect.\n",
      "\n",
      "\n",
      "\n"
     ]
    }
   ],
   "source": [
    "wificntr.QuickConnect()"
   ]
  }
 ],
 "metadata": {
  "kernelspec": {
   "display_name": "Python 2",
   "language": "python",
   "name": "python2"
  },
  "language_info": {
   "codemirror_mode": {
    "name": "ipython",
    "version": 2
   },
   "file_extension": ".py",
   "mimetype": "text/x-python",
   "name": "python",
   "nbconvert_exporter": "python",
   "pygments_lexer": "ipython2",
   "version": "2.7.8"
  }
 },
 "nbformat": 4,
 "nbformat_minor": 0
}
