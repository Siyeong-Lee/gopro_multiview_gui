{
 "cells": [
  {
   "cell_type": "code",
   "execution_count": 24,
   "metadata": {
    "collapsed": false
   },
   "outputs": [],
   "source": [
    "import WifiControl\n",
    "wificntr = WifiControl.WifiController()"
   ]
  },
  {
   "cell_type": "code",
   "execution_count": 25,
   "metadata": {
    "collapsed": false
   },
   "outputs": [
    {
     "name": "stdout",
     "output_type": "stream",
     "text": [
      "WLAN 2 : Tsinghua\n",
      "\n",
      "WLAN : GoproNumber1\n",
      "\n",
      "WLAN 6 : GoproNumber2\n",
      "\n",
      "WLAN 5 : GoproNumber3\n",
      "\n",
      "WLAN 7 : GoproNumber4\n",
      "\n",
      "WLAN 8 : GoproNumber5\n",
      "\n",
      "WLAN 4 : GoproNumber6\n",
      "\n",
      "WLAN 9 : GoproNumber7\n",
      "\n",
      "WLAN 10 : GoproNumber8\n",
      "\n"
     ]
    }
   ],
   "source": [
    "wificntr.RegisterAllInterfaces()\n",
    "wificntr.QuickStat()"
   ]
  },
  {
   "cell_type": "code",
   "execution_count": 22,
   "metadata": {
    "collapsed": false
   },
   "outputs": [
    {
     "name": "stdout",
     "output_type": "stream",
     "text": [
      "[u'WLAN 10']\n",
      "Profile GoproNumber8 is added on interface WLAN 10.\n",
      "\n",
      "Connection request was completed successfully.\n",
      "\n",
      "\n",
      "\n"
     ]
    }
   ],
   "source": [
    "wificntr.QuickConnect()"
   ]
  }
 ],
 "metadata": {
  "kernelspec": {
   "display_name": "Python 2",
   "language": "python",
   "name": "python2"
  },
  "language_info": {
   "codemirror_mode": {
    "name": "ipython",
    "version": 2
   },
   "file_extension": ".py",
   "mimetype": "text/x-python",
   "name": "python",
   "nbconvert_exporter": "python",
   "pygments_lexer": "ipython2",
   "version": "2.7.8"
  }
 },
 "nbformat": 4,
 "nbformat_minor": 0
}
