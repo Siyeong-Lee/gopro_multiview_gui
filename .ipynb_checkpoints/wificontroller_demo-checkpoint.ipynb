{
 "cells": [
  {
   "cell_type": "code",
   "execution_count": 121,
   "metadata": {
    "collapsed": false
   },
   "outputs": [],
   "source": [
    "import WifiControl\n",
    "wificntr = WifiControl.WifiController()"
   ]
  },
  {
   "cell_type": "code",
   "execution_count": 168,
   "metadata": {
    "collapsed": false,
    "scrolled": true
   },
   "outputs": [
    {
     "name": "stdout",
     "output_type": "stream",
     "text": [
      "WLAN 2 : GoproNumber1\n",
      "\n",
      "WLAN 20 : GoproNumber2\n",
      "\n",
      "WLAN 22 : GoproNumber3\n",
      "\n",
      "WLAN 21 : GoproNumber4\n",
      "\n",
      "WLAN 24 : GoproNumber5\n",
      "\n",
      "WLAN 25 : GoproNumber6\n",
      "\n",
      "WLAN 26 : GoproNumber7\n",
      "\n",
      "WLAN 27 : GoproNumber8\n",
      "\n",
      "WLAN 23 : GoproNumber9\n",
      "\n",
      "WLAN 4 : GoproNumber10\n",
      "\n",
      "WLAN 9 : GoproNumber11\n",
      "\n",
      "WLAN 7 : GoproNumber12\n",
      "\n",
      "WLAN 5 : GoproNumber13\n",
      "\n",
      "WLAN 6 : GoproNumber14\n",
      "\n",
      "WLAN : GoproNumber15\n",
      "\n",
      "WLAN 28 : GoproNumber16\n",
      "\n"
     ]
    }
   ],
   "source": [
    "wificntr.RegisterAllInterfaces()\n",
    "wificntr.QuickStat()"
   ]
  },
  {
   "cell_type": "code",
   "execution_count": 167,
   "metadata": {
    "collapsed": false,
    "scrolled": true
   },
   "outputs": [
    {
     "name": "stdout",
     "output_type": "stream",
     "text": [
      "Profile GoproNumber5 is added on interface WLAN 24.\n",
      "\n",
      "The network specified by profile \"GoproNumber5\" is not available to connect.\n",
      "\n",
      "\n",
      "\n",
      "Profile GoproNumber7 is added on interface WLAN 26.\n",
      "\n",
      "The network specified by profile \"GoproNumber7\" is not available to connect.\n",
      "\n",
      "\n",
      "\n"
     ]
    }
   ],
   "source": [
    "wificntr.QuickConnect()"
   ]
  },
  {
   "cell_type": "code",
   "execution_count": 149,
   "metadata": {
    "collapsed": true
   },
   "outputs": [],
   "source": [
    "wificntr.RemoveAllProfile()"
   ]
  }
 ],
 "metadata": {
  "kernelspec": {
   "display_name": "Python 2",
   "language": "python",
   "name": "python2"
  },
  "language_info": {
   "codemirror_mode": {
    "name": "ipython",
    "version": 2
   },
   "file_extension": ".py",
   "mimetype": "text/x-python",
   "name": "python",
   "nbconvert_exporter": "python",
   "pygments_lexer": "ipython2",
   "version": "2.7.8"
  }
 },
 "nbformat": 4,
 "nbformat_minor": 0
}
