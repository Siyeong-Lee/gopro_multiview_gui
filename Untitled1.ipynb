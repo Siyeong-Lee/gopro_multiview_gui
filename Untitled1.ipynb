{
 "cells": [
  {
   "cell_type": "code",
   "execution_count": 1,
   "metadata": {
    "collapsed": true
   },
   "outputs": [],
   "source": [
    "from multiprocessing import Process, Pipe\n",
    "from CamArrayControl import *\n",
    "def CameraArrayCommand_Parralell(camarrayopener,url)\n",
    "    for opener in camarrayopener:\n",
    "        threading = Process(target=SendCmd, args=(opener,url))\n",
    "        threading.start()\n",
    "def BuildCameraArrayOpener(camarray):\n",
    "    opener = []\n",
    "    for cam in camarray:\n",
    "        opener = cam.opener\n",
    "    return opener\n",
    "def SendCmd(opener,url):\n",
    "    result = self.opener.open(url, timeout=4).read()\n",
    "    print result\n",
    "    \n",
    "if __name__ == __main__:\n",
    "    camarray = []\n",
    "    for id in range(1,17):\n",
    "        camarray.append(Camera(id))\n",
    "    js = ReadJson('D:\\gopro_multiview_gui')\n",
    "    cmddict = ConvertControlJson(js);\n",
    "    camarraycmd = CameraArrayCommand()\n",
    "    camarraycmd.RegisterMacs(camarray,js['mac_map'])\n",
    "    CameraArrayCommand_Parralell(camarray,cmddict['Shutter']['Trigger'])"
   ]
  },
  {
   "cell_type": "code",
   "execution_count": 2,
   "metadata": {
    "collapsed": true
   },
   "outputs": [],
   "source": []
  }
 ],
 "metadata": {
  "kernelspec": {
   "display_name": "Python 2",
   "language": "python",
   "name": "python2"
  },
  "language_info": {
   "codemirror_mode": {
    "name": "ipython",
    "version": 2
   },
   "file_extension": ".py",
   "mimetype": "text/x-python",
   "name": "python",
   "nbconvert_exporter": "python",
   "pygments_lexer": "ipython2",
   "version": "2.7.8"
  }
 },
 "nbformat": 4,
 "nbformat_minor": 0
}
