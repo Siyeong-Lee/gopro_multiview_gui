{
 "cells": [
  {
   "cell_type": "code",
   "execution_count": 11,
   "metadata": {
    "collapsed": false
   },
   "outputs": [],
   "source": [
    "import subprocess, os, sys\n",
    "s = 'ipconfig'\n",
    "raw = subprocess.Popen(s, stdout=subprocess.PIPE).stdout.read().decode('cp437').split('\\n')"
   ]
  },
  {
   "cell_type": "code",
   "execution_count": 15,
   "metadata": {
    "collapsed": false
   },
   "outputs": [
    {
     "name": "stdout",
     "output_type": "stream",
     "text": [
      "01.5.209.210\r\n"
     ]
    }
   ],
   "source": [
    "iscurrent = False\n",
    "for lines in raw:\n",
    "    if lines.find('WLAN')>-1:\n",
    "        iscurrent = True\n",
    "    if lines.find('IPv4')>-1 and iscurrent == True:\n",
    "        print lines[lines.find(':')+2:]"
   ]
  }
 ],
 "metadata": {
  "kernelspec": {
   "display_name": "Python 2",
   "language": "python",
   "name": "python2"
  },
  "language_info": {
   "codemirror_mode": {
    "name": "ipython",
    "version": 2
   },
   "file_extension": ".py",
   "mimetype": "text/x-python",
   "name": "python",
   "nbconvert_exporter": "python",
   "pygments_lexer": "ipython2",
   "version": "2.7.8"
  }
 },
 "nbformat": 4,
 "nbformat_minor": 0
}
