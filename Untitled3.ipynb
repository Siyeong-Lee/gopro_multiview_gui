{
 "cells": [
  {
   "cell_type": "code",
   "execution_count": 17,
   "metadata": {
    "collapsed": true
   },
   "outputs": [],
   "source": [
    "import json"
   ]
  },
  {
   "cell_type": "code",
   "execution_count": 18,
   "metadata": {
    "collapsed": false
   },
   "outputs": [],
   "source": [
    "data = json.load(open(\"D:\\gopro_multiview_gui/macmap.json\"))"
   ]
  },
  {
   "cell_type": "code",
   "execution_count": 19,
   "metadata": {
    "collapsed": false
   },
   "outputs": [
    {
     "data": {
      "text/plain": [
       "{u'GoproNumber1': u'd4d91990386f',\n",
       " u'GoproNumber10': u'd4d919324832',\n",
       " u'GoproNumber11': u'd896855fee9f',\n",
       " u'GoproNumber12': u'd4d91931a350',\n",
       " u'GoproNumber13': u'd4d91931598c',\n",
       " u'GoproNumber14': u'd89685567197',\n",
       " u'GoproNumber15': u'd4d919318c87',\n",
       " u'GoproNumber16': u'd4d919319e11',\n",
       " u'GoproNumber2': u'd4d919923696',\n",
       " u'GoproNumber3': u'd4d9199042c9',\n",
       " u'GoproNumber4': u'd4d919924264',\n",
       " u'GoproNumber5': u'd4d919904e4f',\n",
       " u'GoproNumber6': u'd4d919924cd6',\n",
       " u'GoproNumber7': u'd4d9199049f7',\n",
       " u'GoproNumber8': u'd4d919901678',\n",
       " u'GoproNumber9': u'd896855fd25e'}"
      ]
     },
     "execution_count": 19,
     "metadata": {},
     "output_type": "execute_result"
    }
   ],
   "source": [
    "data['GoproNumber1']"
   ]
  }
 ],
 "metadata": {
  "kernelspec": {
   "display_name": "Python 2",
   "language": "python",
   "name": "python2"
  },
  "language_info": {
   "codemirror_mode": {
    "name": "ipython",
    "version": 2
   },
   "file_extension": ".py",
   "mimetype": "text/x-python",
   "name": "python",
   "nbconvert_exporter": "python",
   "pygments_lexer": "ipython2",
   "version": "2.7.8"
  }
 },
 "nbformat": 4,
 "nbformat_minor": 0
}
