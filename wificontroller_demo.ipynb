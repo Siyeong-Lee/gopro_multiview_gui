{
 "cells": [
  {
   "cell_type": "code",
   "execution_count": 1,
   "metadata": {
    "collapsed": false
   },
   "outputs": [],
   "source": [
    "import WifiControl\n",
    "wificntr = WifiControl.WifiController()"
   ]
  },
  {
   "cell_type": "code",
   "execution_count": 62,
   "metadata": {
    "collapsed": false,
    "scrolled": true
   },
   "outputs": [
    {
     "name": "stdout",
     "output_type": "stream",
     "text": [
      "WLAN 2 : disconnected\n",
      "\n",
      "WLAN 21 : disconnected\n",
      "\n",
      "WLAN : disconnected\n",
      "\n",
      "WLAN 23 : disconnected\n",
      "\n",
      "WLAN 24 : disconnected\n",
      "\n",
      "WLAN 25 : disconnected\n",
      "\n",
      "WLAN 26 : disconnected\n",
      "\n",
      "WLAN 27 : disconnected\n",
      "\n",
      "WLAN 11 : disconnected\n",
      "\n",
      "WLAN 9 : disconnected\n",
      "\n",
      "WLAN 8 : disconnected\n",
      "\n",
      "WLAN 6 : disconnected\n",
      "\n",
      "WLAN 7 : disconnected\n",
      "\n",
      "WLAN 5 : disconnected\n",
      "\n",
      "WLAN 20 : disconnected\n",
      "\n",
      "WLAN 4 : disconnected\n",
      "\n"
     ]
    }
   ],
   "source": [
    "wificntr.RegisterAllInterfaces()\n",
    "wificntr.QuickStat()"
   ]
  },
  {
   "cell_type": "code",
   "execution_count": 3,
   "metadata": {
    "collapsed": false,
    "scrolled": true
   },
   "outputs": [
    {
     "name": "stdout",
     "output_type": "stream",
     "text": [
      "Profile GoproNumber1 is added on interface WLAN.\n",
      "\n",
      "Connection request was completed successfully.\n",
      "\n",
      "\n",
      "\n"
     ]
    }
   ],
   "source": [
    "wificntr.QuickConnect()"
   ]
  },
  {
   "cell_type": "code",
   "execution_count": 2,
   "metadata": {
    "collapsed": true
   },
   "outputs": [],
   "source": [
    "wificntr.RemoveAllProfile()"
   ]
  }
 ],
 "metadata": {
  "kernelspec": {
   "display_name": "Python 2",
   "language": "python",
   "name": "python2"
  },
  "language_info": {
   "codemirror_mode": {
    "name": "ipython",
    "version": 2
   },
   "file_extension": ".py",
   "mimetype": "text/x-python",
   "name": "python",
   "nbconvert_exporter": "python",
   "pygments_lexer": "ipython2",
   "version": "2.7.8"
  }
 },
 "nbformat": 4,
 "nbformat_minor": 0
}
