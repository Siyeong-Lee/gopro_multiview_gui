{
 "cells": [
  {
   "cell_type": "code",
   "execution_count": 31,
   "metadata": {
    "collapsed": false
   },
   "outputs": [],
   "source": [
    "import WifiControl\n",
    "wificntr = WifiControl.WifiController()"
   ]
  },
  {
   "cell_type": "code",
   "execution_count": 32,
   "metadata": {
    "collapsed": false
   },
   "outputs": [
    {
     "name": "stdout",
     "output_type": "stream",
     "text": [
      "WLAN 2 : disconnected\n",
      "\n",
      "WLAN 11 : disconnected\n",
      "\n",
      "WLAN 8 : disconnected\n",
      "\n",
      "WLAN 9 : disconnected\n",
      "\n",
      "WLAN 4 : disconnected\n",
      "\n",
      "WLAN 5 : disconnected\n",
      "\n",
      "WLAN 12 : disconnected\n",
      "\n",
      "WLAN 13 : disconnected\n",
      "\n",
      "WLAN 16 : disconnected\n",
      "\n",
      "WLAN 17 : disconnected\n",
      "\n",
      "WLAN 18 : disconnected\n",
      "\n",
      "WLAN 14 : disconnected\n",
      "\n",
      "WLAN 15 : disconnected\n",
      "\n",
      "WLAN 7 : disconnected\n",
      "\n",
      "WLAN 6 : disconnected\n",
      "\n",
      "WLAN 19 : disconnected\n",
      "\n"
     ]
    }
   ],
   "source": [
    "wificntr.RegisterAllInterfaces()\n",
    "wificntr.QuickStat()"
   ]
  },
  {
   "cell_type": "code",
   "execution_count": 9,
   "metadata": {
    "collapsed": false
   },
   "outputs": [
    {
     "name": "stdout",
     "output_type": "stream",
     "text": [
      "Profile GoproNumber1 is added on interface WLAN 2.\n",
      "\n",
      "The network specified by profile \"GoproNumber1\" is not available to connect.\n",
      "\n",
      "\n",
      "\n",
      "Profile GoproNumber2 is added on interface WLAN 5.\n",
      "\n",
      "The network specified by profile \"GoproNumber2\" is not available to connect.\n",
      "\n",
      "\n",
      "\n",
      "Profile GoproNumber7 is added on interface WLAN 19.\n",
      "\n",
      "Connection request was completed successfully.\n",
      "\n",
      "\n",
      "\n"
     ]
    }
   ],
   "source": [
    "wificntr.QuickConnect()"
   ]
  },
  {
   "cell_type": "code",
   "execution_count": 29,
   "metadata": {
    "collapsed": true
   },
   "outputs": [],
   "source": [
    "wificntr.RemoveAllProfile()"
   ]
  }
 ],
 "metadata": {
  "kernelspec": {
   "display_name": "Python 2",
   "language": "python",
   "name": "python2"
  },
  "language_info": {
   "codemirror_mode": {
    "name": "ipython",
    "version": 2
   },
   "file_extension": ".py",
   "mimetype": "text/x-python",
   "name": "python",
   "nbconvert_exporter": "python",
   "pygments_lexer": "ipython2",
   "version": "2.7.8"
  }
 },
 "nbformat": 4,
 "nbformat_minor": 0
}
