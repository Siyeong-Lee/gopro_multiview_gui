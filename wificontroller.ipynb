{
 "cells": [
  {
   "cell_type": "code",
   "execution_count": 116,
   "metadata": {
    "collapsed": false
   },
   "outputs": [],
   "source": [
    "import subprocess, os, sys\n",
    "class WifiController():\n",
    "    def __init__(self):\n",
    "        self.interfaces = []\n",
    "        self.interfacesnumber = 0\n",
    "        self.mappingpath = \"\"\n",
    "    def RemoveAllProfile():\n",
    "        os.system('netsh wlan delete profile *')\n",
    "    def RegisterAllInterfaces(self):\n",
    "        allinterface = self.GetRawInterfaceInfo()\n",
    "        self.interfacesnumber = 0\n",
    "        self.interfaces = []\n",
    "        for line in allinterface.splitlines():\n",
    "            if line.find('Name')>-1:\n",
    "                self.interfaces.append(dict())\n",
    "                self.interfacesnumber+=1\n",
    "                self.interfaces[self.interfacesnumber-1]['Name'] = line[line.find(\":\")+2:]\n",
    "            elif line.find('Physical')>-1:\n",
    "                self.interfaces[self.interfacesnumber-1]['Mac'] = line[line.find(\":\")+2:]\n",
    "            elif line.find('State')>-1:\n",
    "                self.interfaces[self.interfacesnumber-1]['State'] = line[line.find(\":\")+2:]\n",
    "            elif (line.find('SSID')>-1 and line.find('BSSID')==-1):\n",
    "                self.interfaces[self.interfacesnumber-1]['SSID'] = line[line.find(\":\")+2:]\n",
    "    def GetRawInterfaceInfo(self,isprint = 0):\n",
    "        allinterface = subprocess.Popen(\"netsh wlan show interface\", stdout=subprocess.PIPE).stdout.read()\n",
    "        allinterface = allinterface.decode('cp437')\n",
    "        if (isprint==1):\n",
    "            print allinterface\n",
    "        return allinterface\n",
    "    def GetDisconnectedInterfaceName(self):\n",
    "        name = []\n",
    "        for interface in self.interfaces:\n",
    "            if interface['State']==\"disconnected\":\n",
    "                name.append(interface['Name'])\n",
    "        return name\n",
    "    def QuickStat(self):\n",
    "        for interface in self.interfaces:\n",
    "            if interface.has_key(\"SSID\"):\n",
    "                print interface['Name']+' : '+interface['SSID']+'\\n'\n",
    "            else:\n",
    "                print interface['Name']+' : '+interface['State']+'\\n'\n",
    "        return\n",
    "    def ConnectByName(self,name,goproID):\n",
    "        s = 'netsh wlan add profile filename=\"GoproNumber%d.xml\" interface=\"%s\"' % (goproID, name)\n",
    "        print subprocess.Popen(s, stdout=subprocess.PIPE).stdout.read().decode('cp437')\n",
    "        s = 'netsh wlan connect name=\"GoproNumber%d\" interface=\"%s\"' % (goproID, name)\n",
    "        print subprocess.Popen(s, stdout=subprocess.PIPE).stdout.read().decode('cp437')\n",
    "        s = 'netsh interface ip set address name=\"%s\" source=static \\\n",
    "            addr=10.5.5.%d mask=255.255.255.0 gateway=10.5.5.9' % (name, goproID+100)\n",
    "        print subprocess.Popen(s, stdout=subprocess.PIPE).stdout.read().decode('cp437')\n",
    "        self.RegisterAllInterfaces\n",
    "    def GetConnectedGopros(self):\n",
    "        connectedgopros = []\n",
    "        for interface in self.interfaces:\n",
    "            if(interface.has_key(\"SSID\") and interface[\"SSID\"].find('GoproNumber')>-1):\n",
    "                connectedgopros.append(int(interface[\"SSID\"][11:]))\n",
    "        return connectedgopros\n",
    "    def QuickConnect(self):\n",
    "        names = self.GetDisconnectedInterfaceName()\n",
    "        onlinegp = self.GetConnectedGopros()\n",
    "        offlinegp=[]\n",
    "        for id in range(1,17):\n",
    "            if id in onlinegp:\n",
    "                continue\n",
    "            else:\n",
    "                offlinegp.append(id)\n",
    "        for i in range(0,len(names)):\n",
    "            self.ConnectByName(names[i],offlinegp[i])\n",
    "        return"
   ]
  },
  {
   "cell_type": "code",
   "execution_count": 133,
   "metadata": {
    "collapsed": true
   },
   "outputs": [],
   "source": []
  }
 ],
 "metadata": {
  "kernelspec": {
   "display_name": "Python 2",
   "language": "python",
   "name": "python2"
  },
  "language_info": {
   "codemirror_mode": {
    "name": "ipython",
    "version": 2
   },
   "file_extension": ".py",
   "mimetype": "text/x-python",
   "name": "python",
   "nbconvert_exporter": "python",
   "pygments_lexer": "ipython2",
   "version": "2.7.8"
  }
 },
 "nbformat": 4,
 "nbformat_minor": 0
}
