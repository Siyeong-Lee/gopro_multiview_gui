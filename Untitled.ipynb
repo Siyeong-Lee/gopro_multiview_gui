{
 "cells": [
  {
   "cell_type": "code",
   "execution_count": 19,
   "metadata": {
    "collapsed": false
   },
   "outputs": [],
   "source": [
    "import json\n",
    "from collections import OrderedDict\n",
    "import re\n",
    "import sys, os, platform, subprocess\n",
    "import functools, httplib, urllib2, socket\n",
    "from threading import Thread\n",
    "from time import sleep\n",
    "from multiprocessing import Process, Pipe\n",
    "import struct\n",
    "\n",
    "class BoundHTTPHandler(urllib2.HTTPHandler):\n",
    "\tdef __init__(self, source_address=None, debuglevel=0):\n",
    "\t\turllib2.HTTPHandler.__init__(self, debuglevel)\n",
    "\t\tself.http_class = functools.partial(httplib.HTTPConnection,\n",
    "\t\t\t\tsource_address=source_address)\n",
    "\tdef http_open(self, req):\n",
    "\t\treturn self.do_open(self.http_class, req)\n",
    "    \n",
    "\n",
    "class Camera():\n",
    "    def __init__(self,ind):\n",
    "        self.index = ind\n",
    "        self.ip = \"10.5.5.%d\"%(ind+100)\n",
    "        self.opener = urllib2.build_opener(BoundHTTPHandler(source_address=(self.ip, 0)))\n",
    "        self.isAlive = False\n",
    "    def SendUrlCmd(self,url):\n",
    "        result = self.opener.open(url, timeout=1).read()\n",
    "        return result\n",
    "    def RegisterMac(self,macaddr):\n",
    "        self.mac = macaddr\n",
    "    def Wake(self):\n",
    "        macaddress = self.mac\n",
    "        data = ''.join(['FFFFFFFFFFFF', macaddress * 20])\n",
    "        send_data = ''\n",
    "        # Split up the hex values and pack.\n",
    "        for i in range(0, len(data), 2):\n",
    "            send_data = ''.join([send_data,struct.pack('B', int(data[i: i + 2], 16))])\n",
    "        # Broadcast it to the LAN.\n",
    "        sock = socket.socket(socket.AF_INET, socket.SOCK_DGRAM)\n",
    "        sock.setsockopt(socket.SOL_SOCKET, socket.SO_BROADCAST, 1)\n",
    "        sock.bind((self.ip,8080))\n",
    "        sock.sendto(send_data, ('10.5.5.9', 9))\n",
    "        sock.shutdown(socket.SHUT_RDWR)\n",
    "        sock.close()\n",
    "    def Sleep(self):\n",
    "        self.SendUrlCmd(\"http://10.5.5.9/gp/gpControl/command/system/sleep\")\n",
    "    def GetLastImg(self,path):\n",
    "        campath = os.path.join(path,\"Cam%d\"%self.index)\n",
    "        if not os.path.exists(campath):\n",
    "            os.mkdir(campath)\n",
    "        filelist = json.loads(self.SendUrlCmd(\"http://10.5.5.9:8080/gp/gpMediaList\"))['media'][0]['fs']\n",
    "        filename = filelist[-1]['n']\n",
    "        data = self.SendUrlCmd(\"http://10.5.5.9:8080/videos/DCIM/100GOPRO/\"+filename)\n",
    "        with open(os.path.join(campath,filename),'wb') as target:\n",
    "            target.write(data)\n",
    "\n",
    "def StartFFplay(cam):\n",
    "        prefix = \"ffplay -fflags nobuffer -f:v mpegts -probesize 8192 udp://\"\n",
    "        print prefix + \"%s?localaddr=%s\" % (cam.ip, cam.ip)\n",
    "        os.system(prefix + \"%s:8554?localaddr=%s\" % (cam.ip, cam.ip))\n",
    "\n",
    "    \n",
    "def KeepAliveSingle(cam):\n",
    "    MESSAGE = \"_GPHD_:%u:%u:%d:%1lf\\n\" % (0, 0, 2, 0)\n",
    "    UDP_IP = \"10.5.5.9\"\n",
    "    UDP_PORT = 8554\n",
    "    KEEP_ALIVE_PERIOD = 2500\n",
    "    if sys.version_info.major >= 3:\n",
    "        MESSAGE = bytes(MESSAGE, \"utf-8\")\n",
    "    while True:\n",
    "        sock = socket.socket(socket.AF_INET, socket.SOCK_DGRAM)\n",
    "        sock.bind((cam.ip,8080))\n",
    "        sock.sendto(MESSAGE, (UDP_IP, UDP_PORT))\n",
    "        sock.close()\n",
    "    sleep(KEEP_ALIVE_PERIOD/1000)\n",
    "def StreamSingle(cam):\n",
    "    streamthread = Process(target = cam.StartFFplay)\n",
    "    streamthread.start()\n",
    "    cam.SendUrlCmd(\"http://10.5.5.9/gp/gpControl/execute?p1=gpStream&c1=restart\")\n",
    "    return streamthread\n",
    "\n",
    "def EndStream(cam,streamthread):\n",
    "    streamthread.terminate()\n",
    "    cam.SendUrlCmd(\"http://10.5.5.9/gp/gpControl/execute?p1=gpStream&c1=stop\")\n",
    "        "
   ]
  },
  {
   "cell_type": "code",
   "execution_count": 20,
   "metadata": {
    "collapsed": false
   },
   "outputs": [],
   "source": [
    "cam1 = Camera(1)\n",
    "cam2 = Camera(2)\n",
    "cam1.RegisterMac(\"d4d91990386f\")\n",
    "cam2.RegisterMac(\"d4d919923696\")"
   ]
  },
  {
   "cell_type": "code",
   "execution_count": 23,
   "metadata": {
    "collapsed": false
   },
   "outputs": [],
   "source": [
    "cam2.Wake()"
   ]
  },
  {
   "cell_type": "code",
   "execution_count": 15,
   "metadata": {
    "collapsed": false
   },
   "outputs": [],
   "source": [
    "if __name__ == \"__main__\":\n",
    "    s = Process(target=KeepAliveSingle,args=(cam2,))\n",
    "    s.start()\n",
    "    streamthread = Process(target = StartFFplay,args=(cam2,))\n",
    "    streamthread.start()\n",
    "    cam2.SendUrlCmd(\"http://10.5.5.9/gp/gpControl/execute?p1=gpStream&c1=restart\")"
   ]
  },
  {
   "cell_type": "code",
   "execution_count": 26,
   "metadata": {
    "collapsed": false
   },
   "outputs": [
    {
     "name": "stdout",
     "output_type": "stream",
     "text": [
      "ffplay -fflags nobuffer -f:v mpegts -probesize 8192 udp://10.5.5.102?localaddr=10.5.5.102\n"
     ]
    }
   ],
   "source": [
    "cam2.SendUrlCmd(\"http://10.5.5.9/gp/gpControl/execute?p1=gpStream&c1=restart\")\n",
    "StartFFplay(cam2)"
   ]
  }
 ],
 "metadata": {
  "kernelspec": {
   "display_name": "Python 2",
   "language": "python",
   "name": "python2"
  },
  "language_info": {
   "codemirror_mode": {
    "name": "ipython",
    "version": 2
   },
   "file_extension": ".py",
   "mimetype": "text/x-python",
   "name": "python",
   "nbconvert_exporter": "python",
   "pygments_lexer": "ipython2",
   "version": "2.7.8"
  }
 },
 "nbformat": 4,
 "nbformat_minor": 0
}
